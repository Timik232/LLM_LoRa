{
 "cells": [
  {
   "cell_type": "code",
   "execution_count": null,
   "id": "initial_id",
   "metadata": {
    "collapsed": true
   },
   "outputs": [],
   "source": []
  },
  {
   "cell_type": "code",
   "outputs": [
    {
     "name": "stdout",
     "output_type": "stream",
     "text": [
      "Collecting transformers\n",
      "  Obtaining dependency information for transformers from https://files.pythonhosted.org/packages/75/35/07c9879163b603f0e464b0f6e6e628a2340cfc7cdc5ca8e7d52d776710d4/transformers-4.44.2-py3-none-any.whl.metadata\n",
      "  Using cached transformers-4.44.2-py3-none-any.whl.metadata (43 kB)\n",
      "Requirement already satisfied: filelock in h:\\projects\\face-recognition\\llm_lora\\lib\\site-packages (from transformers) (3.13.1)\n",
      "Collecting huggingface-hub<1.0,>=0.23.2 (from transformers)\n",
      "  Obtaining dependency information for huggingface-hub<1.0,>=0.23.2 from https://files.pythonhosted.org/packages/d5/ce/1f8e61cd63175cc2e79233b954b1c4e85363c788fb3a1fa23c87a25c9b81/huggingface_hub-0.25.0-py3-none-any.whl.metadata\n",
      "  Using cached huggingface_hub-0.25.0-py3-none-any.whl.metadata (13 kB)\n",
      "Requirement already satisfied: numpy>=1.17 in h:\\projects\\face-recognition\\llm_lora\\lib\\site-packages (from transformers) (1.26.3)\n",
      "Requirement already satisfied: packaging>=20.0 in h:\\projects\\face-recognition\\llm_lora\\lib\\site-packages (from transformers) (24.1)\n",
      "Requirement already satisfied: pyyaml>=5.1 in h:\\projects\\face-recognition\\llm_lora\\lib\\site-packages (from transformers) (6.0.2)\n",
      "Collecting regex!=2019.12.17 (from transformers)\n",
      "  Obtaining dependency information for regex!=2019.12.17 from https://files.pythonhosted.org/packages/c7/ab/1ad2511cf6a208fde57fafe49829cab8ca018128ab0d0b48973d8218634a/regex-2024.9.11-cp311-cp311-win_amd64.whl.metadata\n",
      "  Using cached regex-2024.9.11-cp311-cp311-win_amd64.whl.metadata (41 kB)\n",
      "Requirement already satisfied: requests in h:\\projects\\face-recognition\\llm_lora\\lib\\site-packages (from transformers) (2.32.3)\n",
      "Collecting safetensors>=0.4.1 (from transformers)\n",
      "  Obtaining dependency information for safetensors>=0.4.1 from https://files.pythonhosted.org/packages/6d/41/948c96c8a7e9fef57c2e051f1871c108a6dbbc6d285598bdb1d89b98617c/safetensors-0.4.5-cp311-none-win_amd64.whl.metadata\n",
      "  Using cached safetensors-0.4.5-cp311-none-win_amd64.whl.metadata (3.9 kB)\n",
      "Collecting tokenizers<0.20,>=0.19 (from transformers)\n",
      "  Obtaining dependency information for tokenizers<0.20,>=0.19 from https://files.pythonhosted.org/packages/65/8e/6d7d72b28f22c422cff8beae10ac3c2e4376b9be721ef8167b7eecd1da62/tokenizers-0.19.1-cp311-none-win_amd64.whl.metadata\n",
      "  Using cached tokenizers-0.19.1-cp311-none-win_amd64.whl.metadata (6.9 kB)\n",
      "Collecting tqdm>=4.27 (from transformers)\n",
      "  Obtaining dependency information for tqdm>=4.27 from https://files.pythonhosted.org/packages/48/5d/acf5905c36149bbaec41ccf7f2b68814647347b72075ac0b1fe3022fdc73/tqdm-4.66.5-py3-none-any.whl.metadata\n",
      "  Using cached tqdm-4.66.5-py3-none-any.whl.metadata (57 kB)\n",
      "Requirement already satisfied: fsspec>=2023.5.0 in h:\\projects\\face-recognition\\llm_lora\\lib\\site-packages (from huggingface-hub<1.0,>=0.23.2->transformers) (2024.2.0)\n",
      "Requirement already satisfied: typing-extensions>=3.7.4.3 in h:\\projects\\face-recognition\\llm_lora\\lib\\site-packages (from huggingface-hub<1.0,>=0.23.2->transformers) (4.12.2)\n",
      "Requirement already satisfied: colorama in h:\\projects\\face-recognition\\llm_lora\\lib\\site-packages (from tqdm>=4.27->transformers) (0.4.6)\n",
      "Requirement already satisfied: charset-normalizer<4,>=2 in h:\\projects\\face-recognition\\llm_lora\\lib\\site-packages (from requests->transformers) (3.3.2)\n",
      "Requirement already satisfied: idna<4,>=2.5 in h:\\projects\\face-recognition\\llm_lora\\lib\\site-packages (from requests->transformers) (3.10)\n",
      "Requirement already satisfied: urllib3<3,>=1.21.1 in h:\\projects\\face-recognition\\llm_lora\\lib\\site-packages (from requests->transformers) (2.2.3)\n",
      "Requirement already satisfied: certifi>=2017.4.17 in h:\\projects\\face-recognition\\llm_lora\\lib\\site-packages (from requests->transformers) (2024.8.30)\n",
      "Using cached transformers-4.44.2-py3-none-any.whl (9.5 MB)\n",
      "Using cached huggingface_hub-0.25.0-py3-none-any.whl (436 kB)\n",
      "Using cached regex-2024.9.11-cp311-cp311-win_amd64.whl (274 kB)\n",
      "Using cached safetensors-0.4.5-cp311-none-win_amd64.whl (285 kB)\n",
      "Using cached tokenizers-0.19.1-cp311-none-win_amd64.whl (2.2 MB)\n",
      "Using cached tqdm-4.66.5-py3-none-any.whl (78 kB)\n",
      "Installing collected packages: tqdm, safetensors, regex, huggingface-hub, tokenizers, transformers\n",
      "Successfully installed huggingface-hub-0.25.0 regex-2024.9.11 safetensors-0.4.5 tokenizers-0.19.1 tqdm-4.66.5 transformers-4.44.2\n"
     ]
    },
    {
     "name": "stderr",
     "output_type": "stream",
     "text": [
      "\n",
      "[notice] A new release of pip is available: 23.2.1 -> 24.2\n",
      "[notice] To update, run: python.exe -m pip install --upgrade pip\n"
     ]
    },
    {
     "name": "stdout",
     "output_type": "stream",
     "text": [
      "Collecting datasets\n",
      "  Obtaining dependency information for datasets from https://files.pythonhosted.org/packages/a5/52/45dab187f03d48c765b94db0464f5c10431756e47ae4cc6a8029a7d57a36/datasets-3.0.0-py3-none-any.whl.metadata\n",
      "  Downloading datasets-3.0.0-py3-none-any.whl.metadata (19 kB)\n",
      "Requirement already satisfied: filelock in h:\\projects\\face-recognition\\llm_lora\\lib\\site-packages (from datasets) (3.13.1)\n",
      "Requirement already satisfied: numpy>=1.17 in h:\\projects\\face-recognition\\llm_lora\\lib\\site-packages (from datasets) (1.26.3)\n",
      "Collecting pyarrow>=15.0.0 (from datasets)\n",
      "  Obtaining dependency information for pyarrow>=15.0.0 from https://files.pythonhosted.org/packages/30/d1/63a7c248432c71c7d3ee803e706590a0b81ce1a8d2b2ae49677774b813bb/pyarrow-17.0.0-cp311-cp311-win_amd64.whl.metadata\n",
      "  Using cached pyarrow-17.0.0-cp311-cp311-win_amd64.whl.metadata (3.4 kB)\n",
      "Collecting dill<0.3.9,>=0.3.0 (from datasets)\n",
      "  Obtaining dependency information for dill<0.3.9,>=0.3.0 from https://files.pythonhosted.org/packages/c9/7a/cef76fd8438a42f96db64ddaa85280485a9c395e7df3db8158cfec1eee34/dill-0.3.8-py3-none-any.whl.metadata\n",
      "  Downloading dill-0.3.8-py3-none-any.whl.metadata (10 kB)\n",
      "Collecting pandas (from datasets)\n",
      "  Obtaining dependency information for pandas from https://files.pythonhosted.org/packages/ed/8c/87ddf1fcb55d11f9f847e3c69bb1c6f8e46e2f40ab1a2d2abadb2401b007/pandas-2.2.3-cp311-cp311-win_amd64.whl.metadata\n",
      "  Downloading pandas-2.2.3-cp311-cp311-win_amd64.whl.metadata (19 kB)\n",
      "Requirement already satisfied: requests>=2.32.2 in h:\\projects\\face-recognition\\llm_lora\\lib\\site-packages (from datasets) (2.32.3)\n",
      "Requirement already satisfied: tqdm>=4.66.3 in h:\\projects\\face-recognition\\llm_lora\\lib\\site-packages (from datasets) (4.66.5)\n",
      "Collecting xxhash (from datasets)\n",
      "  Obtaining dependency information for xxhash from https://files.pythonhosted.org/packages/52/1c/fa3b61c0cf03e1da4767213672efe186b1dfa4fc901a4a694fb184a513d1/xxhash-3.5.0-cp311-cp311-win_amd64.whl.metadata\n",
      "  Downloading xxhash-3.5.0-cp311-cp311-win_amd64.whl.metadata (13 kB)\n",
      "Collecting multiprocess (from datasets)\n",
      "  Obtaining dependency information for multiprocess from https://files.pythonhosted.org/packages/50/15/b56e50e8debaf439f44befec5b2af11db85f6e0f344c3113ae0be0593a91/multiprocess-0.70.16-py311-none-any.whl.metadata\n",
      "  Downloading multiprocess-0.70.16-py311-none-any.whl.metadata (7.2 kB)\n",
      "Requirement already satisfied: fsspec[http]<=2024.6.1,>=2023.1.0 in h:\\projects\\face-recognition\\llm_lora\\lib\\site-packages (from datasets) (2024.2.0)\n",
      "Collecting aiohttp (from datasets)\n",
      "  Obtaining dependency information for aiohttp from https://files.pythonhosted.org/packages/98/1b/718901f04bc8c886a742be9e83babb7b93facabf7c475cc95e2b3ab80b4d/aiohttp-3.10.5-cp311-cp311-win_amd64.whl.metadata\n",
      "  Downloading aiohttp-3.10.5-cp311-cp311-win_amd64.whl.metadata (7.8 kB)\n",
      "Requirement already satisfied: huggingface-hub>=0.22.0 in h:\\projects\\face-recognition\\llm_lora\\lib\\site-packages (from datasets) (0.25.0)\n",
      "Requirement already satisfied: packaging in h:\\projects\\face-recognition\\llm_lora\\lib\\site-packages (from datasets) (24.1)\n",
      "Requirement already satisfied: pyyaml>=5.1 in h:\\projects\\face-recognition\\llm_lora\\lib\\site-packages (from datasets) (6.0.2)\n",
      "Collecting aiohappyeyeballs>=2.3.0 (from aiohttp->datasets)\n",
      "  Obtaining dependency information for aiohappyeyeballs>=2.3.0 from https://files.pythonhosted.org/packages/18/b6/58ea188899950d759a837f9a58b2aee1d1a380ea4d6211ce9b1823748851/aiohappyeyeballs-2.4.0-py3-none-any.whl.metadata\n",
      "  Downloading aiohappyeyeballs-2.4.0-py3-none-any.whl.metadata (5.9 kB)\n",
      "Collecting aiosignal>=1.1.2 (from aiohttp->datasets)\n",
      "  Obtaining dependency information for aiosignal>=1.1.2 from https://files.pythonhosted.org/packages/76/ac/a7305707cb852b7e16ff80eaf5692309bde30e2b1100a1fcacdc8f731d97/aiosignal-1.3.1-py3-none-any.whl.metadata\n",
      "  Downloading aiosignal-1.3.1-py3-none-any.whl.metadata (4.0 kB)\n",
      "Requirement already satisfied: attrs>=17.3.0 in h:\\projects\\face-recognition\\llm_lora\\lib\\site-packages (from aiohttp->datasets) (24.2.0)\n",
      "Collecting frozenlist>=1.1.1 (from aiohttp->datasets)\n",
      "  Obtaining dependency information for frozenlist>=1.1.1 from https://files.pythonhosted.org/packages/b3/21/c5aaffac47fd305d69df46cfbf118768cdf049a92ee6b0b5cb029d449dcf/frozenlist-1.4.1-cp311-cp311-win_amd64.whl.metadata\n",
      "  Downloading frozenlist-1.4.1-cp311-cp311-win_amd64.whl.metadata (12 kB)\n",
      "Collecting multidict<7.0,>=4.5 (from aiohttp->datasets)\n",
      "  Obtaining dependency information for multidict<7.0,>=4.5 from https://files.pythonhosted.org/packages/9f/0b/ad879847ecbf6d27e90a6eabb7eff6b62c129eefe617ea45eae7c1f0aead/multidict-6.1.0-cp311-cp311-win_amd64.whl.metadata\n",
      "  Downloading multidict-6.1.0-cp311-cp311-win_amd64.whl.metadata (5.1 kB)\n",
      "Collecting yarl<2.0,>=1.0 (from aiohttp->datasets)\n",
      "  Obtaining dependency information for yarl<2.0,>=1.0 from https://files.pythonhosted.org/packages/90/6d/c62ba0ae0232a0b0012706a7735a16b44a03216fedfb6ea0bcda79d1e12c/yarl-1.11.1-cp311-cp311-win_amd64.whl.metadata\n",
      "  Downloading yarl-1.11.1-cp311-cp311-win_amd64.whl.metadata (49 kB)\n",
      "     ---------------------------------------- 0.0/49.8 kB ? eta -:--:--\n",
      "     ---------------------------------------- 49.8/49.8 kB 2.6 MB/s eta 0:00:00\n",
      "Requirement already satisfied: typing-extensions>=3.7.4.3 in h:\\projects\\face-recognition\\llm_lora\\lib\\site-packages (from huggingface-hub>=0.22.0->datasets) (4.12.2)\n",
      "Requirement already satisfied: charset-normalizer<4,>=2 in h:\\projects\\face-recognition\\llm_lora\\lib\\site-packages (from requests>=2.32.2->datasets) (3.3.2)\n",
      "Requirement already satisfied: idna<4,>=2.5 in h:\\projects\\face-recognition\\llm_lora\\lib\\site-packages (from requests>=2.32.2->datasets) (3.10)\n",
      "Requirement already satisfied: urllib3<3,>=1.21.1 in h:\\projects\\face-recognition\\llm_lora\\lib\\site-packages (from requests>=2.32.2->datasets) (2.2.3)\n",
      "Requirement already satisfied: certifi>=2017.4.17 in h:\\projects\\face-recognition\\llm_lora\\lib\\site-packages (from requests>=2.32.2->datasets) (2024.8.30)\n",
      "Requirement already satisfied: colorama in h:\\projects\\face-recognition\\llm_lora\\lib\\site-packages (from tqdm>=4.66.3->datasets) (0.4.6)\n",
      "Requirement already satisfied: python-dateutil>=2.8.2 in h:\\projects\\face-recognition\\llm_lora\\lib\\site-packages (from pandas->datasets) (2.9.0.post0)\n",
      "Collecting pytz>=2020.1 (from pandas->datasets)\n",
      "  Obtaining dependency information for pytz>=2020.1 from https://files.pythonhosted.org/packages/11/c3/005fcca25ce078d2cc29fd559379817424e94885510568bc1bc53d7d5846/pytz-2024.2-py2.py3-none-any.whl.metadata\n",
      "  Downloading pytz-2024.2-py2.py3-none-any.whl.metadata (22 kB)\n",
      "Collecting tzdata>=2022.7 (from pandas->datasets)\n",
      "  Obtaining dependency information for tzdata>=2022.7 from https://files.pythonhosted.org/packages/65/58/f9c9e6be752e9fcb8b6a0ee9fb87e6e7a1f6bcab2cdc73f02bb7ba91ada0/tzdata-2024.1-py2.py3-none-any.whl.metadata\n",
      "  Using cached tzdata-2024.1-py2.py3-none-any.whl.metadata (1.4 kB)\n",
      "Requirement already satisfied: six>=1.5 in h:\\projects\\face-recognition\\llm_lora\\lib\\site-packages (from python-dateutil>=2.8.2->pandas->datasets) (1.16.0)\n",
      "Downloading datasets-3.0.0-py3-none-any.whl (474 kB)\n",
      "   ---------------------------------------- 0.0/474.3 kB ? eta -:--:--\n",
      "   -- ------------------------------------- 30.7/474.3 kB ? eta -:--:--\n",
      "   ------------------- -------------------- 225.3/474.3 kB 3.5 MB/s eta 0:00:01\n",
      "   ---------------------------------------- 474.3/474.3 kB 4.3 MB/s eta 0:00:00\n",
      "Downloading dill-0.3.8-py3-none-any.whl (116 kB)\n",
      "   ---------------------------------------- 0.0/116.3 kB ? eta -:--:--\n",
      "   ---------------------------------------- 116.3/116.3 kB 6.6 MB/s eta 0:00:00\n",
      "Downloading aiohttp-3.10.5-cp311-cp311-win_amd64.whl (379 kB)\n",
      "   ---------------------------------------- 0.0/379.1 kB ? eta -:--:--\n",
      "   -------------------- ------------------ 194.6/379.1 kB 11.5 MB/s eta 0:00:01\n",
      "   ---------------------------------- ----- 327.7/379.1 kB 4.1 MB/s eta 0:00:01\n",
      "   ---------------------------------------- 379.1/379.1 kB 3.9 MB/s eta 0:00:00\n",
      "Using cached pyarrow-17.0.0-cp311-cp311-win_amd64.whl (25.2 MB)\n",
      "Downloading multiprocess-0.70.16-py311-none-any.whl (143 kB)\n",
      "   ---------------------------------------- 0.0/143.5 kB ? eta -:--:--\n",
      "   ----------------- ---------------------- 61.4/143.5 kB 1.7 MB/s eta 0:00:01\n",
      "   ---------------------------------------- 143.5/143.5 kB 2.1 MB/s eta 0:00:00\n",
      "Downloading pandas-2.2.3-cp311-cp311-win_amd64.whl (11.6 MB)\n",
      "   ---------------------------------------- 0.0/11.6 MB ? eta -:--:--\n",
      "    --------------------------------------- 0.2/11.6 MB 4.1 MB/s eta 0:00:03\n",
      "   - -------------------------------------- 0.6/11.6 MB 5.8 MB/s eta 0:00:02\n",
      "   --- ------------------------------------ 0.9/11.6 MB 6.6 MB/s eta 0:00:02\n",
      "   --- ------------------------------------ 1.0/11.6 MB 5.1 MB/s eta 0:00:03\n",
      "   ---- ----------------------------------- 1.3/11.6 MB 5.4 MB/s eta 0:00:02\n",
      "   ----- ---------------------------------- 1.7/11.6 MB 6.1 MB/s eta 0:00:02\n",
      "   ------- -------------------------------- 2.2/11.6 MB 6.6 MB/s eta 0:00:02\n",
      "   --------- ------------------------------ 2.7/11.6 MB 7.1 MB/s eta 0:00:02\n",
      "   --------- ------------------------------ 2.8/11.6 MB 6.9 MB/s eta 0:00:02\n",
      "   ----------- ---------------------------- 3.2/11.6 MB 6.8 MB/s eta 0:00:02\n",
      "   ------------ --------------------------- 3.7/11.6 MB 7.1 MB/s eta 0:00:02\n",
      "   -------------- ------------------------- 4.2/11.6 MB 7.7 MB/s eta 0:00:01\n",
      "   ---------------- ----------------------- 4.8/11.6 MB 8.0 MB/s eta 0:00:01\n",
      "   ---------------- ----------------------- 4.9/11.6 MB 7.6 MB/s eta 0:00:01\n",
      "   ------------------ --------------------- 5.2/11.6 MB 7.4 MB/s eta 0:00:01\n",
      "   ------------------- -------------------- 5.8/11.6 MB 7.9 MB/s eta 0:00:01\n",
      "   --------------------- ------------------ 6.3/11.6 MB 8.1 MB/s eta 0:00:01\n",
      "   ----------------------- ---------------- 6.9/11.6 MB 8.3 MB/s eta 0:00:01\n",
      "   ------------------------- -------------- 7.4/11.6 MB 8.4 MB/s eta 0:00:01\n",
      "   --------------------------- ------------ 8.0/11.6 MB 8.7 MB/s eta 0:00:01\n",
      "   ----------------------------- ---------- 8.5/11.6 MB 8.8 MB/s eta 0:00:01\n",
      "   ------------------------------- -------- 9.1/11.6 MB 8.9 MB/s eta 0:00:01\n",
      "   --------------------------------- ------ 9.6/11.6 MB 9.1 MB/s eta 0:00:01\n",
      "   ----------------------------------- ---- 10.2/11.6 MB 9.2 MB/s eta 0:00:01\n",
      "   ------------------------------------ --- 10.7/11.6 MB 9.5 MB/s eta 0:00:01\n",
      "   -------------------------------------- - 11.2/11.6 MB 10.1 MB/s eta 0:00:01\n",
      "   ---------------------------------------  11.6/11.6 MB 10.4 MB/s eta 0:00:01\n",
      "   ---------------------------------------- 11.6/11.6 MB 10.1 MB/s eta 0:00:00\n",
      "Downloading xxhash-3.5.0-cp311-cp311-win_amd64.whl (30 kB)\n",
      "Downloading aiohappyeyeballs-2.4.0-py3-none-any.whl (12 kB)\n",
      "Downloading aiosignal-1.3.1-py3-none-any.whl (7.6 kB)\n",
      "Downloading frozenlist-1.4.1-cp311-cp311-win_amd64.whl (50 kB)\n",
      "   ---------------------------------------- 0.0/50.5 kB ? eta -:--:--\n",
      "   ---------------------------------------- 50.5/50.5 kB ? eta 0:00:00\n",
      "Downloading multidict-6.1.0-cp311-cp311-win_amd64.whl (28 kB)\n",
      "Downloading pytz-2024.2-py2.py3-none-any.whl (508 kB)\n",
      "   ---------------------------------------- 0.0/508.0 kB ? eta -:--:--\n",
      "   --------------------------------------  501.8/508.0 kB 10.5 MB/s eta 0:00:01\n",
      "   --------------------------------------- 508.0/508.0 kB 10.6 MB/s eta 0:00:00\n",
      "Using cached tzdata-2024.1-py2.py3-none-any.whl (345 kB)\n",
      "Downloading yarl-1.11.1-cp311-cp311-win_amd64.whl (110 kB)\n",
      "   ---------------------------------------- 0.0/110.5 kB ? eta -:--:--\n",
      "   ---------------------------------------- 110.5/110.5 kB 6.7 MB/s eta 0:00:00\n",
      "Installing collected packages: pytz, xxhash, tzdata, pyarrow, multidict, frozenlist, dill, aiohappyeyeballs, yarl, pandas, multiprocess, aiosignal, aiohttp, datasets\n",
      "Successfully installed aiohappyeyeballs-2.4.0 aiohttp-3.10.5 aiosignal-1.3.1 datasets-3.0.0 dill-0.3.8 frozenlist-1.4.1 multidict-6.1.0 multiprocess-0.70.16 pandas-2.2.3 pyarrow-17.0.0 pytz-2024.2 tzdata-2024.1 xxhash-3.5.0 yarl-1.11.1\n"
     ]
    },
    {
     "name": "stderr",
     "output_type": "stream",
     "text": [
      "\n",
      "[notice] A new release of pip is available: 23.2.1 -> 24.2\n",
      "[notice] To update, run: python.exe -m pip install --upgrade pip\n"
     ]
    },
    {
     "name": "stdout",
     "output_type": "stream",
     "text": [
      "Collecting accelerate\n",
      "  Obtaining dependency information for accelerate from https://files.pythonhosted.org/packages/b0/5e/80cee674cdbe529ef008721d7eebb50ae5def4314211d82123aa23e828f8/accelerate-0.34.2-py3-none-any.whl.metadata\n",
      "  Downloading accelerate-0.34.2-py3-none-any.whl.metadata (19 kB)\n",
      "Requirement already satisfied: numpy<3.0.0,>=1.17 in h:\\projects\\face-recognition\\llm_lora\\lib\\site-packages (from accelerate) (1.26.3)\n",
      "Requirement already satisfied: packaging>=20.0 in h:\\projects\\face-recognition\\llm_lora\\lib\\site-packages (from accelerate) (24.1)\n",
      "Requirement already satisfied: psutil in h:\\projects\\face-recognition\\llm_lora\\lib\\site-packages (from accelerate) (6.0.0)\n",
      "Requirement already satisfied: pyyaml in h:\\projects\\face-recognition\\llm_lora\\lib\\site-packages (from accelerate) (6.0.2)\n",
      "Requirement already satisfied: torch>=1.10.0 in h:\\projects\\face-recognition\\llm_lora\\lib\\site-packages (from accelerate) (2.4.1+cu118)\n",
      "Requirement already satisfied: huggingface-hub>=0.21.0 in h:\\projects\\face-recognition\\llm_lora\\lib\\site-packages (from accelerate) (0.25.0)\n",
      "Requirement already satisfied: safetensors>=0.4.3 in h:\\projects\\face-recognition\\llm_lora\\lib\\site-packages (from accelerate) (0.4.5)\n",
      "Requirement already satisfied: filelock in h:\\projects\\face-recognition\\llm_lora\\lib\\site-packages (from huggingface-hub>=0.21.0->accelerate) (3.13.1)\n",
      "Requirement already satisfied: fsspec>=2023.5.0 in h:\\projects\\face-recognition\\llm_lora\\lib\\site-packages (from huggingface-hub>=0.21.0->accelerate) (2024.2.0)\n",
      "Requirement already satisfied: requests in h:\\projects\\face-recognition\\llm_lora\\lib\\site-packages (from huggingface-hub>=0.21.0->accelerate) (2.32.3)\n",
      "Requirement already satisfied: tqdm>=4.42.1 in h:\\projects\\face-recognition\\llm_lora\\lib\\site-packages (from huggingface-hub>=0.21.0->accelerate) (4.66.5)\n",
      "Requirement already satisfied: typing-extensions>=3.7.4.3 in h:\\projects\\face-recognition\\llm_lora\\lib\\site-packages (from huggingface-hub>=0.21.0->accelerate) (4.12.2)\n",
      "Requirement already satisfied: sympy in h:\\projects\\face-recognition\\llm_lora\\lib\\site-packages (from torch>=1.10.0->accelerate) (1.12)\n",
      "Requirement already satisfied: networkx in h:\\projects\\face-recognition\\llm_lora\\lib\\site-packages (from torch>=1.10.0->accelerate) (3.2.1)\n",
      "Requirement already satisfied: jinja2 in h:\\projects\\face-recognition\\llm_lora\\lib\\site-packages (from torch>=1.10.0->accelerate) (3.1.3)\n",
      "Requirement already satisfied: colorama in h:\\projects\\face-recognition\\llm_lora\\lib\\site-packages (from tqdm>=4.42.1->huggingface-hub>=0.21.0->accelerate) (0.4.6)\n",
      "Requirement already satisfied: MarkupSafe>=2.0 in h:\\projects\\face-recognition\\llm_lora\\lib\\site-packages (from jinja2->torch>=1.10.0->accelerate) (2.1.5)\n",
      "Requirement already satisfied: charset-normalizer<4,>=2 in h:\\projects\\face-recognition\\llm_lora\\lib\\site-packages (from requests->huggingface-hub>=0.21.0->accelerate) (3.3.2)\n",
      "Requirement already satisfied: idna<4,>=2.5 in h:\\projects\\face-recognition\\llm_lora\\lib\\site-packages (from requests->huggingface-hub>=0.21.0->accelerate) (3.10)\n",
      "Requirement already satisfied: urllib3<3,>=1.21.1 in h:\\projects\\face-recognition\\llm_lora\\lib\\site-packages (from requests->huggingface-hub>=0.21.0->accelerate) (2.2.3)\n",
      "Requirement already satisfied: certifi>=2017.4.17 in h:\\projects\\face-recognition\\llm_lora\\lib\\site-packages (from requests->huggingface-hub>=0.21.0->accelerate) (2024.8.30)\n",
      "Requirement already satisfied: mpmath>=0.19 in h:\\projects\\face-recognition\\llm_lora\\lib\\site-packages (from sympy->torch>=1.10.0->accelerate) (1.3.0)\n",
      "Downloading accelerate-0.34.2-py3-none-any.whl (324 kB)\n",
      "   ---------------------------------------- 0.0/324.4 kB ? eta -:--:--\n",
      "   --- ------------------------------------ 30.7/324.4 kB 1.3 MB/s eta 0:00:01\n",
      "   --------------------- ------------------ 174.1/324.4 kB 2.6 MB/s eta 0:00:01\n",
      "   ---------------------------------------- 324.4/324.4 kB 3.3 MB/s eta 0:00:00\n",
      "Installing collected packages: accelerate\n",
      "Successfully installed accelerate-0.34.2\n"
     ]
    },
    {
     "name": "stderr",
     "output_type": "stream",
     "text": [
      "\n",
      "[notice] A new release of pip is available: 23.2.1 -> 24.2\n",
      "[notice] To update, run: python.exe -m pip install --upgrade pip\n"
     ]
    },
    {
     "name": "stdout",
     "output_type": "stream",
     "text": [
      "Collecting peft\n",
      "  Obtaining dependency information for peft from https://files.pythonhosted.org/packages/62/72/fcabddf222ec938c3cbd5616e5a72796938b5235897e07a1fcc2a8e7735e/peft-0.12.0-py3-none-any.whl.metadata\n",
      "  Downloading peft-0.12.0-py3-none-any.whl.metadata (13 kB)\n",
      "Requirement already satisfied: numpy>=1.17 in h:\\projects\\face-recognition\\llm_lora\\lib\\site-packages (from peft) (1.26.3)\n",
      "Requirement already satisfied: packaging>=20.0 in h:\\projects\\face-recognition\\llm_lora\\lib\\site-packages (from peft) (24.1)\n",
      "Requirement already satisfied: psutil in h:\\projects\\face-recognition\\llm_lora\\lib\\site-packages (from peft) (6.0.0)\n",
      "Requirement already satisfied: pyyaml in h:\\projects\\face-recognition\\llm_lora\\lib\\site-packages (from peft) (6.0.2)\n",
      "Requirement already satisfied: torch>=1.13.0 in h:\\projects\\face-recognition\\llm_lora\\lib\\site-packages (from peft) (2.4.1+cu118)\n",
      "Requirement already satisfied: transformers in h:\\projects\\face-recognition\\llm_lora\\lib\\site-packages (from peft) (4.44.2)\n",
      "Requirement already satisfied: tqdm in h:\\projects\\face-recognition\\llm_lora\\lib\\site-packages (from peft) (4.66.5)\n",
      "Requirement already satisfied: accelerate>=0.21.0 in h:\\projects\\face-recognition\\llm_lora\\lib\\site-packages (from peft) (0.34.2)\n",
      "Requirement already satisfied: safetensors in h:\\projects\\face-recognition\\llm_lora\\lib\\site-packages (from peft) (0.4.5)\n",
      "Requirement already satisfied: huggingface-hub>=0.17.0 in h:\\projects\\face-recognition\\llm_lora\\lib\\site-packages (from peft) (0.25.0)\n",
      "Requirement already satisfied: filelock in h:\\projects\\face-recognition\\llm_lora\\lib\\site-packages (from huggingface-hub>=0.17.0->peft) (3.13.1)\n",
      "Requirement already satisfied: fsspec>=2023.5.0 in h:\\projects\\face-recognition\\llm_lora\\lib\\site-packages (from huggingface-hub>=0.17.0->peft) (2024.2.0)\n",
      "Requirement already satisfied: requests in h:\\projects\\face-recognition\\llm_lora\\lib\\site-packages (from huggingface-hub>=0.17.0->peft) (2.32.3)\n",
      "Requirement already satisfied: typing-extensions>=3.7.4.3 in h:\\projects\\face-recognition\\llm_lora\\lib\\site-packages (from huggingface-hub>=0.17.0->peft) (4.12.2)\n",
      "Requirement already satisfied: sympy in h:\\projects\\face-recognition\\llm_lora\\lib\\site-packages (from torch>=1.13.0->peft) (1.12)\n",
      "Requirement already satisfied: networkx in h:\\projects\\face-recognition\\llm_lora\\lib\\site-packages (from torch>=1.13.0->peft) (3.2.1)\n",
      "Requirement already satisfied: jinja2 in h:\\projects\\face-recognition\\llm_lora\\lib\\site-packages (from torch>=1.13.0->peft) (3.1.3)\n",
      "Requirement already satisfied: colorama in h:\\projects\\face-recognition\\llm_lora\\lib\\site-packages (from tqdm->peft) (0.4.6)\n",
      "Requirement already satisfied: regex!=2019.12.17 in h:\\projects\\face-recognition\\llm_lora\\lib\\site-packages (from transformers->peft) (2024.9.11)\n",
      "Requirement already satisfied: tokenizers<0.20,>=0.19 in h:\\projects\\face-recognition\\llm_lora\\lib\\site-packages (from transformers->peft) (0.19.1)\n",
      "Requirement already satisfied: MarkupSafe>=2.0 in h:\\projects\\face-recognition\\llm_lora\\lib\\site-packages (from jinja2->torch>=1.13.0->peft) (2.1.5)\n",
      "Requirement already satisfied: charset-normalizer<4,>=2 in h:\\projects\\face-recognition\\llm_lora\\lib\\site-packages (from requests->huggingface-hub>=0.17.0->peft) (3.3.2)\n",
      "Requirement already satisfied: idna<4,>=2.5 in h:\\projects\\face-recognition\\llm_lora\\lib\\site-packages (from requests->huggingface-hub>=0.17.0->peft) (3.10)\n",
      "Requirement already satisfied: urllib3<3,>=1.21.1 in h:\\projects\\face-recognition\\llm_lora\\lib\\site-packages (from requests->huggingface-hub>=0.17.0->peft) (2.2.3)\n",
      "Requirement already satisfied: certifi>=2017.4.17 in h:\\projects\\face-recognition\\llm_lora\\lib\\site-packages (from requests->huggingface-hub>=0.17.0->peft) (2024.8.30)\n",
      "Requirement already satisfied: mpmath>=0.19 in h:\\projects\\face-recognition\\llm_lora\\lib\\site-packages (from sympy->torch>=1.13.0->peft) (1.3.0)\n",
      "Downloading peft-0.12.0-py3-none-any.whl (296 kB)\n",
      "   ---------------------------------------- 0.0/296.4 kB ? eta -:--:--\n",
      "   - -------------------------------------- 10.2/296.4 kB ? eta -:--:--\n",
      "   ----- --------------------------------- 41.0/296.4 kB 653.6 kB/s eta 0:00:01\n",
      "   -------------------------- ------------- 194.6/296.4 kB 2.0 MB/s eta 0:00:01\n",
      "   -------------------------- ------------- 194.6/296.4 kB 2.0 MB/s eta 0:00:01\n",
      "   ---------------------------------------- 296.4/296.4 kB 1.7 MB/s eta 0:00:00\n",
      "Installing collected packages: peft\n",
      "Successfully installed peft-0.12.0\n"
     ]
    },
    {
     "name": "stderr",
     "output_type": "stream",
     "text": [
      "\n",
      "[notice] A new release of pip is available: 23.2.1 -> 24.2\n",
      "[notice] To update, run: python.exe -m pip install --upgrade pip\n"
     ]
    },
    {
     "name": "stdout",
     "output_type": "stream",
     "text": [
      "Collecting trl\n",
      "  Obtaining dependency information for trl from https://files.pythonhosted.org/packages/43/51/25a04a5d73bd8a4b0f38d18e331af0384c677fe775f23f9798a224ae6652/trl-0.11.0-py3-none-any.whl.metadata\n",
      "  Downloading trl-0.11.0-py3-none-any.whl.metadata (12 kB)\n",
      "Requirement already satisfied: torch>=1.4.0 in h:\\projects\\face-recognition\\llm_lora\\lib\\site-packages (from trl) (2.4.1+cu118)\n",
      "Requirement already satisfied: transformers>=4.40.0 in h:\\projects\\face-recognition\\llm_lora\\lib\\site-packages (from trl) (4.44.2)\n",
      "Requirement already satisfied: accelerate in h:\\projects\\face-recognition\\llm_lora\\lib\\site-packages (from trl) (0.34.2)\n",
      "Requirement already satisfied: datasets in h:\\projects\\face-recognition\\llm_lora\\lib\\site-packages (from trl) (3.0.0)\n",
      "Collecting tyro>=0.5.11 (from trl)\n",
      "  Obtaining dependency information for tyro>=0.5.11 from https://files.pythonhosted.org/packages/72/51/1b9f7ed08573cde2e1bfc0039a7fa9c8f76caba048f6eaf33bbc5aa5f18c/tyro-0.8.11-py3-none-any.whl.metadata\n",
      "  Downloading tyro-0.8.11-py3-none-any.whl.metadata (8.4 kB)\n",
      "Requirement already satisfied: numpy<2 in h:\\projects\\face-recognition\\llm_lora\\lib\\site-packages (from trl) (1.26.3)\n",
      "Requirement already satisfied: filelock in h:\\projects\\face-recognition\\llm_lora\\lib\\site-packages (from torch>=1.4.0->trl) (3.13.1)\n",
      "Requirement already satisfied: typing-extensions>=4.8.0 in h:\\projects\\face-recognition\\llm_lora\\lib\\site-packages (from torch>=1.4.0->trl) (4.12.2)\n",
      "Requirement already satisfied: sympy in h:\\projects\\face-recognition\\llm_lora\\lib\\site-packages (from torch>=1.4.0->trl) (1.12)\n",
      "Requirement already satisfied: networkx in h:\\projects\\face-recognition\\llm_lora\\lib\\site-packages (from torch>=1.4.0->trl) (3.2.1)\n",
      "Requirement already satisfied: jinja2 in h:\\projects\\face-recognition\\llm_lora\\lib\\site-packages (from torch>=1.4.0->trl) (3.1.3)\n",
      "Requirement already satisfied: fsspec in h:\\projects\\face-recognition\\llm_lora\\lib\\site-packages (from torch>=1.4.0->trl) (2024.2.0)\n",
      "Requirement already satisfied: huggingface-hub<1.0,>=0.23.2 in h:\\projects\\face-recognition\\llm_lora\\lib\\site-packages (from transformers>=4.40.0->trl) (0.25.0)\n",
      "Requirement already satisfied: packaging>=20.0 in h:\\projects\\face-recognition\\llm_lora\\lib\\site-packages (from transformers>=4.40.0->trl) (24.1)\n",
      "Requirement already satisfied: pyyaml>=5.1 in h:\\projects\\face-recognition\\llm_lora\\lib\\site-packages (from transformers>=4.40.0->trl) (6.0.2)\n",
      "Requirement already satisfied: regex!=2019.12.17 in h:\\projects\\face-recognition\\llm_lora\\lib\\site-packages (from transformers>=4.40.0->trl) (2024.9.11)\n",
      "Requirement already satisfied: requests in h:\\projects\\face-recognition\\llm_lora\\lib\\site-packages (from transformers>=4.40.0->trl) (2.32.3)\n",
      "Requirement already satisfied: safetensors>=0.4.1 in h:\\projects\\face-recognition\\llm_lora\\lib\\site-packages (from transformers>=4.40.0->trl) (0.4.5)\n",
      "Requirement already satisfied: tokenizers<0.20,>=0.19 in h:\\projects\\face-recognition\\llm_lora\\lib\\site-packages (from transformers>=4.40.0->trl) (0.19.1)\n",
      "Requirement already satisfied: tqdm>=4.27 in h:\\projects\\face-recognition\\llm_lora\\lib\\site-packages (from transformers>=4.40.0->trl) (4.66.5)\n",
      "Collecting docstring-parser>=0.16 (from tyro>=0.5.11->trl)\n",
      "  Obtaining dependency information for docstring-parser>=0.16 from https://files.pythonhosted.org/packages/d5/7c/e9fcff7623954d86bdc17782036cbf715ecab1bec4847c008557affe1ca8/docstring_parser-0.16-py3-none-any.whl.metadata\n",
      "  Downloading docstring_parser-0.16-py3-none-any.whl.metadata (3.0 kB)\n",
      "Collecting rich>=11.1.0 (from tyro>=0.5.11->trl)\n",
      "  Obtaining dependency information for rich>=11.1.0 from https://files.pythonhosted.org/packages/b0/11/dadb85e2bd6b1f1ae56669c3e1f0410797f9605d752d68fb47b77f525b31/rich-13.8.1-py3-none-any.whl.metadata\n",
      "  Downloading rich-13.8.1-py3-none-any.whl.metadata (18 kB)\n",
      "Collecting shtab>=1.5.6 (from tyro>=0.5.11->trl)\n",
      "  Obtaining dependency information for shtab>=1.5.6 from https://files.pythonhosted.org/packages/e2/d1/a1d3189e7873408b9dc396aef0d7926c198b0df2aa3ddb5b539d3e89a70f/shtab-1.7.1-py3-none-any.whl.metadata\n",
      "  Downloading shtab-1.7.1-py3-none-any.whl.metadata (7.3 kB)\n",
      "Requirement already satisfied: colorama>=0.4.0 in h:\\projects\\face-recognition\\llm_lora\\lib\\site-packages (from tyro>=0.5.11->trl) (0.4.6)\n",
      "Requirement already satisfied: psutil in h:\\projects\\face-recognition\\llm_lora\\lib\\site-packages (from accelerate->trl) (6.0.0)\n",
      "Requirement already satisfied: pyarrow>=15.0.0 in h:\\projects\\face-recognition\\llm_lora\\lib\\site-packages (from datasets->trl) (17.0.0)\n",
      "Requirement already satisfied: dill<0.3.9,>=0.3.0 in h:\\projects\\face-recognition\\llm_lora\\lib\\site-packages (from datasets->trl) (0.3.8)\n",
      "Requirement already satisfied: pandas in h:\\projects\\face-recognition\\llm_lora\\lib\\site-packages (from datasets->trl) (2.2.3)\n",
      "Requirement already satisfied: xxhash in h:\\projects\\face-recognition\\llm_lora\\lib\\site-packages (from datasets->trl) (3.5.0)\n",
      "Requirement already satisfied: multiprocess in h:\\projects\\face-recognition\\llm_lora\\lib\\site-packages (from datasets->trl) (0.70.16)\n",
      "Requirement already satisfied: aiohttp in h:\\projects\\face-recognition\\llm_lora\\lib\\site-packages (from datasets->trl) (3.10.5)\n",
      "Requirement already satisfied: aiohappyeyeballs>=2.3.0 in h:\\projects\\face-recognition\\llm_lora\\lib\\site-packages (from aiohttp->datasets->trl) (2.4.0)\n",
      "Requirement already satisfied: aiosignal>=1.1.2 in h:\\projects\\face-recognition\\llm_lora\\lib\\site-packages (from aiohttp->datasets->trl) (1.3.1)\n",
      "Requirement already satisfied: attrs>=17.3.0 in h:\\projects\\face-recognition\\llm_lora\\lib\\site-packages (from aiohttp->datasets->trl) (24.2.0)\n",
      "Requirement already satisfied: frozenlist>=1.1.1 in h:\\projects\\face-recognition\\llm_lora\\lib\\site-packages (from aiohttp->datasets->trl) (1.4.1)\n",
      "Requirement already satisfied: multidict<7.0,>=4.5 in h:\\projects\\face-recognition\\llm_lora\\lib\\site-packages (from aiohttp->datasets->trl) (6.1.0)\n",
      "Requirement already satisfied: yarl<2.0,>=1.0 in h:\\projects\\face-recognition\\llm_lora\\lib\\site-packages (from aiohttp->datasets->trl) (1.11.1)\n",
      "Requirement already satisfied: charset-normalizer<4,>=2 in h:\\projects\\face-recognition\\llm_lora\\lib\\site-packages (from requests->transformers>=4.40.0->trl) (3.3.2)\n",
      "Requirement already satisfied: idna<4,>=2.5 in h:\\projects\\face-recognition\\llm_lora\\lib\\site-packages (from requests->transformers>=4.40.0->trl) (3.10)\n",
      "Requirement already satisfied: urllib3<3,>=1.21.1 in h:\\projects\\face-recognition\\llm_lora\\lib\\site-packages (from requests->transformers>=4.40.0->trl) (2.2.3)\n",
      "Requirement already satisfied: certifi>=2017.4.17 in h:\\projects\\face-recognition\\llm_lora\\lib\\site-packages (from requests->transformers>=4.40.0->trl) (2024.8.30)\n",
      "Collecting markdown-it-py>=2.2.0 (from rich>=11.1.0->tyro>=0.5.11->trl)\n",
      "  Obtaining dependency information for markdown-it-py>=2.2.0 from https://files.pythonhosted.org/packages/42/d7/1ec15b46af6af88f19b8e5ffea08fa375d433c998b8a7639e76935c14f1f/markdown_it_py-3.0.0-py3-none-any.whl.metadata\n",
      "  Downloading markdown_it_py-3.0.0-py3-none-any.whl.metadata (6.9 kB)\n",
      "Requirement already satisfied: pygments<3.0.0,>=2.13.0 in h:\\projects\\face-recognition\\llm_lora\\lib\\site-packages (from rich>=11.1.0->tyro>=0.5.11->trl) (2.18.0)\n",
      "Requirement already satisfied: MarkupSafe>=2.0 in h:\\projects\\face-recognition\\llm_lora\\lib\\site-packages (from jinja2->torch>=1.4.0->trl) (2.1.5)\n",
      "Requirement already satisfied: python-dateutil>=2.8.2 in h:\\projects\\face-recognition\\llm_lora\\lib\\site-packages (from pandas->datasets->trl) (2.9.0.post0)\n",
      "Requirement already satisfied: pytz>=2020.1 in h:\\projects\\face-recognition\\llm_lora\\lib\\site-packages (from pandas->datasets->trl) (2024.2)\n",
      "Requirement already satisfied: tzdata>=2022.7 in h:\\projects\\face-recognition\\llm_lora\\lib\\site-packages (from pandas->datasets->trl) (2024.1)\n",
      "Requirement already satisfied: mpmath>=0.19 in h:\\projects\\face-recognition\\llm_lora\\lib\\site-packages (from sympy->torch>=1.4.0->trl) (1.3.0)\n",
      "Collecting mdurl~=0.1 (from markdown-it-py>=2.2.0->rich>=11.1.0->tyro>=0.5.11->trl)\n",
      "  Obtaining dependency information for mdurl~=0.1 from https://files.pythonhosted.org/packages/b3/38/89ba8ad64ae25be8de66a6d463314cf1eb366222074cfda9ee839c56a4b4/mdurl-0.1.2-py3-none-any.whl.metadata\n",
      "  Downloading mdurl-0.1.2-py3-none-any.whl.metadata (1.6 kB)\n",
      "Requirement already satisfied: six>=1.5 in h:\\projects\\face-recognition\\llm_lora\\lib\\site-packages (from python-dateutil>=2.8.2->pandas->datasets->trl) (1.16.0)\n",
      "Downloading trl-0.11.0-py3-none-any.whl (316 kB)\n",
      "   ---------------------------------------- 0.0/316.4 kB ? eta -:--:--\n",
      "   --------------- ------------------------ 122.9/316.4 kB 3.6 MB/s eta 0:00:01\n",
      "   ---------------------------------------- 316.4/316.4 kB 3.9 MB/s eta 0:00:00\n",
      "Downloading tyro-0.8.11-py3-none-any.whl (105 kB)\n",
      "   ---------------------------------------- 0.0/105.9 kB ? eta -:--:--\n",
      "   ---------------------------------------- 105.9/105.9 kB ? eta 0:00:00\n",
      "Downloading docstring_parser-0.16-py3-none-any.whl (36 kB)\n",
      "Downloading rich-13.8.1-py3-none-any.whl (241 kB)\n",
      "   ---------------------------------------- 0.0/241.6 kB ? eta -:--:--\n",
      "   --------------------------------------- 241.6/241.6 kB 14.5 MB/s eta 0:00:00\n",
      "Downloading shtab-1.7.1-py3-none-any.whl (14 kB)\n",
      "Downloading markdown_it_py-3.0.0-py3-none-any.whl (87 kB)\n",
      "   ---------------------------------------- 0.0/87.5 kB ? eta -:--:--\n",
      "   ---------------------------------------- 87.5/87.5 kB 5.2 MB/s eta 0:00:00\n",
      "Downloading mdurl-0.1.2-py3-none-any.whl (10.0 kB)\n",
      "Installing collected packages: shtab, mdurl, docstring-parser, markdown-it-py, rich, tyro, trl\n",
      "Successfully installed docstring-parser-0.16 markdown-it-py-3.0.0 mdurl-0.1.2 rich-13.8.1 shtab-1.7.1 trl-0.11.0 tyro-0.8.11\n"
     ]
    },
    {
     "name": "stderr",
     "output_type": "stream",
     "text": [
      "\n",
      "[notice] A new release of pip is available: 23.2.1 -> 24.2\n",
      "[notice] To update, run: python.exe -m pip install --upgrade pip\n"
     ]
    },
    {
     "name": "stdout",
     "output_type": "stream",
     "text": [
      "Collecting bitsandbytes"
     ]
    },
    {
     "name": "stderr",
     "output_type": "stream",
     "text": [
      "\n",
      "[notice] A new release of pip is available: 23.2.1 -> 24.2\n",
      "[notice] To update, run: python.exe -m pip install --upgrade pip\n"
     ]
    },
    {
     "name": "stdout",
     "output_type": "stream",
     "text": [
      "\n",
      "  Obtaining dependency information for bitsandbytes from https://files.pythonhosted.org/packages/9f/73/92084a26c983854078113cee7ff8b3b444a0528788c4c5b512f94fa4a535/bitsandbytes-0.43.3-py3-none-win_amd64.whl.metadata\n",
      "  Downloading bitsandbytes-0.43.3-py3-none-win_amd64.whl.metadata (3.5 kB)\n",
      "Requirement already satisfied: torch in h:\\projects\\face-recognition\\llm_lora\\lib\\site-packages (from bitsandbytes) (2.4.1+cu118)\n",
      "Requirement already satisfied: numpy in h:\\projects\\face-recognition\\llm_lora\\lib\\site-packages (from bitsandbytes) (1.26.3)\n",
      "Requirement already satisfied: filelock in h:\\projects\\face-recognition\\llm_lora\\lib\\site-packages (from torch->bitsandbytes) (3.13.1)\n",
      "Requirement already satisfied: typing-extensions>=4.8.0 in h:\\projects\\face-recognition\\llm_lora\\lib\\site-packages (from torch->bitsandbytes) (4.12.2)\n",
      "Requirement already satisfied: sympy in h:\\projects\\face-recognition\\llm_lora\\lib\\site-packages (from torch->bitsandbytes) (1.12)\n",
      "Requirement already satisfied: networkx in h:\\projects\\face-recognition\\llm_lora\\lib\\site-packages (from torch->bitsandbytes) (3.2.1)\n",
      "Requirement already satisfied: jinja2 in h:\\projects\\face-recognition\\llm_lora\\lib\\site-packages (from torch->bitsandbytes) (3.1.3)\n",
      "Requirement already satisfied: fsspec in h:\\projects\\face-recognition\\llm_lora\\lib\\site-packages (from torch->bitsandbytes) (2024.2.0)\n",
      "Requirement already satisfied: MarkupSafe>=2.0 in h:\\projects\\face-recognition\\llm_lora\\lib\\site-packages (from jinja2->torch->bitsandbytes) (2.1.5)\n",
      "Requirement already satisfied: mpmath>=0.19 in h:\\projects\\face-recognition\\llm_lora\\lib\\site-packages (from sympy->torch->bitsandbytes) (1.3.0)\n",
      "Downloading bitsandbytes-0.43.3-py3-none-win_amd64.whl (136.5 MB)\n",
      "   ---------------------------------------- 0.0/136.5 MB ? eta -:--:--\n",
      "   ---------------------------------------- 0.0/136.5 MB 682.7 kB/s eta 0:03:20\n",
      "   ---------------------------------------- 0.1/136.5 MB 660.6 kB/s eta 0:03:27\n",
      "   ---------------------------------------- 0.3/136.5 MB 2.2 MB/s eta 0:01:02\n",
      "   ---------------------------------------- 0.7/136.5 MB 4.1 MB/s eta 0:00:34\n",
      "   ---------------------------------------- 1.1/136.5 MB 5.2 MB/s eta 0:00:26\n",
      "   ---------------------------------------- 1.6/136.5 MB 6.2 MB/s eta 0:00:22\n",
      "    --------------------------------------- 2.2/136.5 MB 7.1 MB/s eta 0:00:19\n",
      "    --------------------------------------- 2.7/136.5 MB 8.0 MB/s eta 0:00:17\n",
      "    --------------------------------------- 3.3/136.5 MB 8.2 MB/s eta 0:00:17\n",
      "   - -------------------------------------- 3.8/136.5 MB 8.7 MB/s eta 0:00:16\n",
      "   - -------------------------------------- 4.5/136.5 MB 8.9 MB/s eta 0:00:15\n",
      "   - -------------------------------------- 5.0/136.5 MB 9.2 MB/s eta 0:00:15\n",
      "   - -------------------------------------- 5.5/136.5 MB 9.3 MB/s eta 0:00:15\n",
      "   - -------------------------------------- 6.1/136.5 MB 9.5 MB/s eta 0:00:14\n",
      "   - -------------------------------------- 6.6/136.5 MB 9.6 MB/s eta 0:00:14\n",
      "   -- ------------------------------------- 7.2/136.5 MB 9.9 MB/s eta 0:00:14\n",
      "   -- ------------------------------------- 7.7/136.5 MB 9.9 MB/s eta 0:00:14\n",
      "   -- ------------------------------------- 8.2/136.5 MB 10.1 MB/s eta 0:00:13\n",
      "   -- ------------------------------------- 8.8/136.5 MB 10.2 MB/s eta 0:00:13\n",
      "   -- ------------------------------------- 9.3/136.5 MB 10.3 MB/s eta 0:00:13\n",
      "   -- ------------------------------------- 9.9/136.5 MB 10.3 MB/s eta 0:00:13\n",
      "   --- ------------------------------------ 10.3/136.5 MB 11.3 MB/s eta 0:00:12\n",
      "   --- ------------------------------------ 11.0/136.5 MB 11.7 MB/s eta 0:00:11\n",
      "   --- ------------------------------------ 11.4/136.5 MB 11.7 MB/s eta 0:00:11\n",
      "   --- ------------------------------------ 12.0/136.5 MB 11.9 MB/s eta 0:00:11\n",
      "   --- ------------------------------------ 12.6/136.5 MB 11.7 MB/s eta 0:00:11\n",
      "   --- ------------------------------------ 13.1/136.5 MB 11.7 MB/s eta 0:00:11\n",
      "   ---- ----------------------------------- 13.7/136.5 MB 11.7 MB/s eta 0:00:11\n",
      "   ---- ----------------------------------- 14.2/136.5 MB 11.7 MB/s eta 0:00:11\n",
      "   ---- ----------------------------------- 14.6/136.5 MB 11.7 MB/s eta 0:00:11\n",
      "   ---- ----------------------------------- 15.3/136.5 MB 11.7 MB/s eta 0:00:11\n",
      "   ---- ----------------------------------- 15.8/136.5 MB 11.7 MB/s eta 0:00:11\n",
      "   ---- ----------------------------------- 16.3/136.5 MB 11.7 MB/s eta 0:00:11\n",
      "   ---- ----------------------------------- 16.9/136.5 MB 11.7 MB/s eta 0:00:11\n",
      "   ----- ---------------------------------- 17.4/136.5 MB 11.7 MB/s eta 0:00:11\n",
      "   ----- ---------------------------------- 17.9/136.5 MB 11.7 MB/s eta 0:00:11\n",
      "   ----- ---------------------------------- 18.5/136.5 MB 11.7 MB/s eta 0:00:11\n",
      "   ----- ---------------------------------- 19.1/136.5 MB 11.7 MB/s eta 0:00:11\n",
      "   ----- ---------------------------------- 19.6/136.5 MB 11.7 MB/s eta 0:00:10\n",
      "   ----- ---------------------------------- 20.2/136.5 MB 11.7 MB/s eta 0:00:10\n",
      "   ------ --------------------------------- 20.5/136.5 MB 11.7 MB/s eta 0:00:10\n",
      "   ------ --------------------------------- 21.3/136.5 MB 11.9 MB/s eta 0:00:10\n",
      "   ------ --------------------------------- 21.8/136.5 MB 11.7 MB/s eta 0:00:10\n",
      "   ------ --------------------------------- 22.3/136.5 MB 11.9 MB/s eta 0:00:10\n",
      "   ------ --------------------------------- 22.9/136.5 MB 12.1 MB/s eta 0:00:10\n",
      "   ------ --------------------------------- 23.4/136.5 MB 11.9 MB/s eta 0:00:10\n",
      "   ------- -------------------------------- 24.0/136.5 MB 11.7 MB/s eta 0:00:10\n",
      "   ------- -------------------------------- 24.4/136.5 MB 11.7 MB/s eta 0:00:10\n",
      "   ------- -------------------------------- 25.1/136.5 MB 11.9 MB/s eta 0:00:10\n",
      "   ------- -------------------------------- 25.7/136.5 MB 11.9 MB/s eta 0:00:10\n",
      "   ------- -------------------------------- 26.2/136.5 MB 11.9 MB/s eta 0:00:10\n",
      "   ------- -------------------------------- 26.7/136.5 MB 11.9 MB/s eta 0:00:10\n",
      "   ------- -------------------------------- 27.3/136.5 MB 11.9 MB/s eta 0:00:10\n",
      "   -------- ------------------------------- 27.8/136.5 MB 11.9 MB/s eta 0:00:10\n",
      "   -------- ------------------------------- 28.4/136.5 MB 11.9 MB/s eta 0:00:10\n",
      "   -------- ------------------------------- 28.5/136.5 MB 11.7 MB/s eta 0:00:10\n",
      "   -------- ------------------------------- 28.5/136.5 MB 11.7 MB/s eta 0:00:10\n",
      "   -------- ------------------------------- 28.5/136.5 MB 11.7 MB/s eta 0:00:10\n",
      "   -------- ------------------------------- 28.5/136.5 MB 11.7 MB/s eta 0:00:10\n",
      "   -------- ------------------------------- 28.8/136.5 MB 9.6 MB/s eta 0:00:12\n",
      "   -------- ------------------------------- 29.6/136.5 MB 9.8 MB/s eta 0:00:11\n",
      "   -------- ------------------------------- 30.4/136.5 MB 9.9 MB/s eta 0:00:11\n",
      "   --------- ------------------------------ 31.3/136.5 MB 10.4 MB/s eta 0:00:11\n",
      "   --------- ------------------------------ 33.2/136.5 MB 11.9 MB/s eta 0:00:09\n",
      "   --------- ------------------------------ 33.8/136.5 MB 11.7 MB/s eta 0:00:09\n",
      "   ---------- ----------------------------- 34.2/136.5 MB 11.7 MB/s eta 0:00:09\n",
      "   ---------- ----------------------------- 34.9/136.5 MB 11.7 MB/s eta 0:00:09\n",
      "   ---------- ----------------------------- 35.4/136.5 MB 11.7 MB/s eta 0:00:09\n",
      "   ---------- ----------------------------- 36.0/136.5 MB 11.7 MB/s eta 0:00:09\n",
      "   ---------- ----------------------------- 36.5/136.5 MB 11.7 MB/s eta 0:00:09\n",
      "   ---------- ----------------------------- 37.1/136.5 MB 11.7 MB/s eta 0:00:09\n",
      "   ----------- ---------------------------- 37.6/136.5 MB 11.7 MB/s eta 0:00:09\n",
      "   ----------- ---------------------------- 38.2/136.5 MB 11.7 MB/s eta 0:00:09\n",
      "   ----------- ---------------------------- 38.7/136.5 MB 11.7 MB/s eta 0:00:09\n",
      "   ----------- ---------------------------- 39.2/136.5 MB 14.9 MB/s eta 0:00:07\n",
      "   ----------- ---------------------------- 39.8/136.5 MB 14.6 MB/s eta 0:00:07\n",
      "   ----------- ---------------------------- 40.3/136.5 MB 14.2 MB/s eta 0:00:07\n",
      "   ----------- ---------------------------- 40.9/136.5 MB 13.9 MB/s eta 0:00:07\n",
      "   ------------ --------------------------- 41.5/136.5 MB 13.6 MB/s eta 0:00:07\n",
      "   ------------ --------------------------- 42.0/136.5 MB 12.8 MB/s eta 0:00:08\n",
      "   ------------ --------------------------- 42.6/136.5 MB 12.3 MB/s eta 0:00:08\n",
      "   ------------ --------------------------- 43.1/136.5 MB 11.7 MB/s eta 0:00:08\n",
      "   ------------ --------------------------- 43.6/136.5 MB 11.7 MB/s eta 0:00:08\n",
      "   ------------ --------------------------- 44.2/136.5 MB 11.7 MB/s eta 0:00:08\n",
      "   ------------- -------------------------- 44.7/136.5 MB 11.9 MB/s eta 0:00:08\n",
      "   ------------- -------------------------- 45.3/136.5 MB 11.7 MB/s eta 0:00:08\n",
      "   ------------- -------------------------- 45.8/136.5 MB 11.7 MB/s eta 0:00:08\n",
      "   ------------- -------------------------- 46.4/136.5 MB 11.7 MB/s eta 0:00:08\n",
      "   ------------- -------------------------- 46.9/136.5 MB 11.9 MB/s eta 0:00:08\n",
      "   ------------- -------------------------- 47.4/136.5 MB 11.7 MB/s eta 0:00:08\n",
      "   -------------- ------------------------- 48.0/136.5 MB 11.9 MB/s eta 0:00:08\n",
      "   -------------- ------------------------- 48.5/136.5 MB 11.9 MB/s eta 0:00:08\n",
      "   -------------- ------------------------- 49.1/136.5 MB 11.9 MB/s eta 0:00:08\n",
      "   -------------- ------------------------- 49.6/136.5 MB 11.7 MB/s eta 0:00:08\n",
      "   -------------- ------------------------- 50.2/136.5 MB 11.7 MB/s eta 0:00:08\n",
      "   -------------- ------------------------- 50.7/136.5 MB 11.7 MB/s eta 0:00:08\n",
      "   --------------- ------------------------ 51.3/136.5 MB 11.7 MB/s eta 0:00:08\n",
      "   --------------- ------------------------ 51.8/136.5 MB 11.7 MB/s eta 0:00:08\n",
      "   --------------- ------------------------ 52.4/136.5 MB 11.7 MB/s eta 0:00:08\n",
      "   --------------- ------------------------ 52.9/136.5 MB 11.7 MB/s eta 0:00:08\n",
      "   --------------- ------------------------ 53.4/136.5 MB 11.7 MB/s eta 0:00:08\n",
      "   --------------- ------------------------ 53.9/136.5 MB 11.7 MB/s eta 0:00:08\n",
      "   --------------- ------------------------ 54.5/136.5 MB 11.7 MB/s eta 0:00:08\n",
      "   ---------------- ----------------------- 55.1/136.5 MB 11.7 MB/s eta 0:00:07\n",
      "   ---------------- ----------------------- 55.6/136.5 MB 11.7 MB/s eta 0:00:07\n",
      "   ---------------- ----------------------- 56.1/136.5 MB 11.7 MB/s eta 0:00:07\n",
      "   ---------------- ----------------------- 56.7/136.5 MB 11.7 MB/s eta 0:00:07\n",
      "   ---------------- ----------------------- 57.2/136.5 MB 11.7 MB/s eta 0:00:07\n",
      "   ---------------- ----------------------- 57.8/136.5 MB 11.7 MB/s eta 0:00:07\n",
      "   ----------------- ---------------------- 58.3/136.5 MB 11.7 MB/s eta 0:00:07\n",
      "   ----------------- ---------------------- 58.9/136.5 MB 11.7 MB/s eta 0:00:07\n",
      "   ----------------- ---------------------- 59.4/136.5 MB 11.7 MB/s eta 0:00:07\n",
      "   ----------------- ---------------------- 60.0/136.5 MB 11.7 MB/s eta 0:00:07\n",
      "   ----------------- ---------------------- 60.5/136.5 MB 11.7 MB/s eta 0:00:07\n",
      "   ----------------- ---------------------- 61.1/136.5 MB 11.7 MB/s eta 0:00:07\n",
      "   ------------------ --------------------- 61.6/136.5 MB 11.7 MB/s eta 0:00:07\n",
      "   ------------------ --------------------- 62.2/136.5 MB 11.7 MB/s eta 0:00:07\n",
      "   ------------------ --------------------- 62.7/136.5 MB 11.7 MB/s eta 0:00:07\n",
      "   ------------------ --------------------- 63.3/136.5 MB 11.7 MB/s eta 0:00:07\n",
      "   ------------------ --------------------- 63.8/136.5 MB 11.7 MB/s eta 0:00:07\n",
      "   ------------------ --------------------- 64.4/136.5 MB 11.7 MB/s eta 0:00:07\n",
      "   ------------------- -------------------- 64.9/136.5 MB 11.7 MB/s eta 0:00:07\n",
      "   ------------------- -------------------- 65.4/136.5 MB 11.7 MB/s eta 0:00:07\n",
      "   ------------------- -------------------- 66.0/136.5 MB 11.7 MB/s eta 0:00:07\n",
      "   ------------------- -------------------- 66.5/136.5 MB 11.7 MB/s eta 0:00:06\n",
      "   ------------------- -------------------- 67.1/136.5 MB 11.7 MB/s eta 0:00:06\n",
      "   ------------------- -------------------- 67.6/136.5 MB 11.9 MB/s eta 0:00:06\n",
      "   ------------------- -------------------- 68.2/136.5 MB 11.7 MB/s eta 0:00:06\n",
      "   -------------------- ------------------- 68.7/136.5 MB 11.7 MB/s eta 0:00:06\n",
      "   -------------------- ------------------- 69.1/136.5 MB 11.7 MB/s eta 0:00:06\n",
      "   -------------------- ------------------- 69.8/136.5 MB 11.9 MB/s eta 0:00:06\n",
      "   -------------------- ------------------- 70.4/136.5 MB 11.9 MB/s eta 0:00:06\n",
      "   -------------------- ------------------- 70.9/136.5 MB 11.9 MB/s eta 0:00:06\n",
      "   -------------------- ------------------- 71.5/136.5 MB 11.9 MB/s eta 0:00:06\n",
      "   --------------------- ------------------ 72.0/136.5 MB 11.9 MB/s eta 0:00:06\n",
      "   --------------------- ------------------ 72.5/136.5 MB 11.9 MB/s eta 0:00:06\n",
      "   --------------------- ------------------ 73.1/136.5 MB 11.7 MB/s eta 0:00:06\n",
      "   --------------------- ------------------ 73.6/136.5 MB 11.7 MB/s eta 0:00:06\n",
      "   --------------------- ------------------ 74.2/136.5 MB 11.9 MB/s eta 0:00:06\n",
      "   --------------------- ------------------ 74.7/136.5 MB 11.7 MB/s eta 0:00:06\n",
      "   ---------------------- ----------------- 75.2/136.5 MB 11.7 MB/s eta 0:00:06\n",
      "   ---------------------- ----------------- 75.8/136.5 MB 11.7 MB/s eta 0:00:06\n",
      "   ---------------------- ----------------- 76.3/136.5 MB 11.7 MB/s eta 0:00:06\n",
      "   ---------------------- ----------------- 76.9/136.5 MB 11.7 MB/s eta 0:00:06\n",
      "   ---------------------- ----------------- 77.4/136.5 MB 11.9 MB/s eta 0:00:05\n",
      "   ---------------------- ----------------- 78.0/136.5 MB 11.7 MB/s eta 0:00:06\n",
      "   ----------------------- ---------------- 78.5/136.5 MB 11.7 MB/s eta 0:00:05\n",
      "   ----------------------- ---------------- 78.9/136.5 MB 11.7 MB/s eta 0:00:05\n",
      "   ----------------------- ---------------- 79.6/136.5 MB 11.7 MB/s eta 0:00:05\n",
      "   ----------------------- ---------------- 80.2/136.5 MB 11.7 MB/s eta 0:00:05\n",
      "   ----------------------- ---------------- 80.7/136.5 MB 11.7 MB/s eta 0:00:05\n",
      "   ----------------------- ---------------- 81.2/136.5 MB 11.7 MB/s eta 0:00:05\n",
      "   ----------------------- ---------------- 81.8/136.5 MB 11.7 MB/s eta 0:00:05\n",
      "   ------------------------ --------------- 82.3/136.5 MB 11.7 MB/s eta 0:00:05\n",
      "   ------------------------ --------------- 82.9/136.5 MB 11.7 MB/s eta 0:00:05\n",
      "   ------------------------ --------------- 83.5/136.5 MB 11.7 MB/s eta 0:00:05\n",
      "   ------------------------ --------------- 84.0/136.5 MB 11.7 MB/s eta 0:00:05\n",
      "   ------------------------ --------------- 84.6/136.5 MB 11.7 MB/s eta 0:00:05\n",
      "   ------------------------ --------------- 85.1/136.5 MB 11.7 MB/s eta 0:00:05\n",
      "   ------------------------- -------------- 85.7/136.5 MB 11.7 MB/s eta 0:00:05\n",
      "   ------------------------- -------------- 86.2/136.5 MB 11.7 MB/s eta 0:00:05\n",
      "   ------------------------- -------------- 86.8/136.5 MB 11.7 MB/s eta 0:00:05\n",
      "   ------------------------- -------------- 87.3/136.5 MB 11.7 MB/s eta 0:00:05\n",
      "   ------------------------- -------------- 87.8/136.5 MB 11.7 MB/s eta 0:00:05\n",
      "   ------------------------- -------------- 88.4/136.5 MB 11.7 MB/s eta 0:00:05\n",
      "   ------------------------- -------------- 88.7/136.5 MB 11.7 MB/s eta 0:00:05\n",
      "   -------------------------- ------------- 89.5/136.5 MB 11.7 MB/s eta 0:00:05\n",
      "   -------------------------- ------------- 90.0/136.5 MB 11.5 MB/s eta 0:00:05\n",
      "   -------------------------- ------------- 90.8/136.5 MB 11.3 MB/s eta 0:00:05\n",
      "   -------------------------- ------------- 91.6/136.5 MB 11.9 MB/s eta 0:00:04\n",
      "   --------------------------- ------------ 92.1/136.5 MB 11.7 MB/s eta 0:00:04\n",
      "   --------------------------- ------------ 92.7/136.5 MB 11.7 MB/s eta 0:00:04\n",
      "   --------------------------- ------------ 93.2/136.5 MB 11.7 MB/s eta 0:00:04\n",
      "   --------------------------- ------------ 93.8/136.5 MB 11.7 MB/s eta 0:00:04\n",
      "   --------------------------- ------------ 94.3/136.5 MB 11.7 MB/s eta 0:00:04\n",
      "   --------------------------- ------------ 94.8/136.5 MB 11.7 MB/s eta 0:00:04\n",
      "   --------------------------- ------------ 95.4/136.5 MB 11.7 MB/s eta 0:00:04\n",
      "   ---------------------------- ----------- 95.7/136.5 MB 11.7 MB/s eta 0:00:04\n",
      "   ---------------------------- ----------- 95.7/136.5 MB 11.7 MB/s eta 0:00:04\n",
      "   ---------------------------- ----------- 95.7/136.5 MB 11.7 MB/s eta 0:00:04\n",
      "   ---------------------------- ----------- 95.7/136.5 MB 11.7 MB/s eta 0:00:04\n",
      "   ---------------------------- ----------- 95.7/136.5 MB 9.5 MB/s eta 0:00:05\n",
      "   ---------------------------- ----------- 97.1/136.5 MB 10.4 MB/s eta 0:00:04\n",
      "   ---------------------------- ----------- 97.6/136.5 MB 10.2 MB/s eta 0:00:04\n",
      "   ----------------------------- ---------- 99.8/136.5 MB 11.7 MB/s eta 0:00:04\n",
      "   ---------------------------- ---------- 100.3/136.5 MB 12.1 MB/s eta 0:00:03\n",
      "   ---------------------------- ---------- 100.9/136.5 MB 11.9 MB/s eta 0:00:03\n",
      "   ---------------------------- ---------- 101.4/136.5 MB 11.9 MB/s eta 0:00:03\n",
      "   ----------------------------- --------- 102.0/136.5 MB 11.7 MB/s eta 0:00:03\n",
      "   ----------------------------- --------- 102.2/136.5 MB 11.7 MB/s eta 0:00:03\n",
      "   ----------------------------- --------- 103.1/136.5 MB 11.7 MB/s eta 0:00:03\n",
      "   ----------------------------- --------- 103.6/136.5 MB 11.7 MB/s eta 0:00:03\n",
      "   ----------------------------- --------- 104.2/136.5 MB 11.9 MB/s eta 0:00:03\n",
      "   ----------------------------- --------- 104.7/136.5 MB 11.7 MB/s eta 0:00:03\n",
      "   ------------------------------ -------- 105.3/136.5 MB 11.7 MB/s eta 0:00:03\n",
      "   ------------------------------ -------- 105.8/136.5 MB 11.7 MB/s eta 0:00:03\n",
      "   ------------------------------ -------- 106.3/136.5 MB 14.6 MB/s eta 0:00:03\n",
      "   ------------------------------ -------- 106.9/136.5 MB 14.2 MB/s eta 0:00:03\n",
      "   ------------------------------ -------- 107.4/136.5 MB 14.2 MB/s eta 0:00:03\n",
      "   ------------------------------ -------- 108.0/136.5 MB 13.9 MB/s eta 0:00:03\n",
      "   ------------------------------- ------- 108.5/136.5 MB 13.1 MB/s eta 0:00:03\n",
      "   ------------------------------- ------- 109.0/136.5 MB 12.6 MB/s eta 0:00:03\n",
      "   ------------------------------- ------- 109.6/136.5 MB 12.1 MB/s eta 0:00:03\n",
      "   ------------------------------- ------- 110.2/136.5 MB 11.7 MB/s eta 0:00:03\n",
      "   ------------------------------- ------- 110.7/136.5 MB 11.9 MB/s eta 0:00:03\n",
      "   ------------------------------- ------- 111.2/136.5 MB 11.9 MB/s eta 0:00:03\n",
      "   ------------------------------- ------- 111.8/136.5 MB 11.9 MB/s eta 0:00:03\n",
      "   -------------------------------- ------ 112.3/136.5 MB 11.9 MB/s eta 0:00:03\n",
      "   -------------------------------- ------ 112.9/136.5 MB 11.9 MB/s eta 0:00:02\n",
      "   -------------------------------- ------ 113.4/136.5 MB 11.9 MB/s eta 0:00:02\n",
      "   -------------------------------- ------ 114.0/136.5 MB 11.7 MB/s eta 0:00:02\n",
      "   -------------------------------- ------ 114.5/136.5 MB 11.7 MB/s eta 0:00:02\n",
      "   -------------------------------- ------ 115.1/136.5 MB 11.7 MB/s eta 0:00:02\n",
      "   --------------------------------- ----- 115.6/136.5 MB 11.7 MB/s eta 0:00:02\n",
      "   --------------------------------- ----- 116.1/136.5 MB 11.7 MB/s eta 0:00:02\n",
      "   --------------------------------- ----- 116.7/136.5 MB 11.7 MB/s eta 0:00:02\n",
      "   --------------------------------- ----- 117.2/136.5 MB 11.7 MB/s eta 0:00:02\n",
      "   --------------------------------- ----- 117.8/136.5 MB 11.7 MB/s eta 0:00:02\n",
      "   --------------------------------- ----- 118.3/136.5 MB 11.7 MB/s eta 0:00:02\n",
      "   --------------------------------- ----- 118.9/136.5 MB 11.9 MB/s eta 0:00:02\n",
      "   ---------------------------------- ---- 119.4/136.5 MB 11.9 MB/s eta 0:00:02\n",
      "   ---------------------------------- ---- 120.0/136.5 MB 11.7 MB/s eta 0:00:02\n",
      "   ---------------------------------- ---- 120.5/136.5 MB 11.7 MB/s eta 0:00:02\n",
      "   ---------------------------------- ---- 121.1/136.5 MB 11.7 MB/s eta 0:00:02\n",
      "   ---------------------------------- ---- 121.6/136.5 MB 11.7 MB/s eta 0:00:02\n",
      "   ---------------------------------- ---- 122.2/136.5 MB 11.7 MB/s eta 0:00:02\n",
      "   ----------------------------------- --- 122.6/136.5 MB 11.7 MB/s eta 0:00:02\n",
      "   ----------------------------------- --- 123.2/136.5 MB 11.7 MB/s eta 0:00:02\n",
      "   ----------------------------------- --- 123.8/136.5 MB 11.7 MB/s eta 0:00:02\n",
      "   ----------------------------------- --- 124.3/136.5 MB 11.7 MB/s eta 0:00:02\n",
      "   ----------------------------------- --- 124.9/136.5 MB 11.7 MB/s eta 0:00:01\n",
      "   ----------------------------------- --- 125.4/136.5 MB 11.7 MB/s eta 0:00:01\n",
      "   ----------------------------------- --- 126.0/136.5 MB 11.7 MB/s eta 0:00:01\n",
      "   ------------------------------------ -- 126.5/136.5 MB 11.7 MB/s eta 0:00:01\n",
      "   ------------------------------------ -- 127.0/136.5 MB 11.7 MB/s eta 0:00:01\n",
      "   ------------------------------------ -- 127.6/136.5 MB 11.7 MB/s eta 0:00:01\n",
      "   ------------------------------------ -- 128.1/136.5 MB 11.7 MB/s eta 0:00:01\n",
      "   ------------------------------------ -- 128.6/136.5 MB 11.7 MB/s eta 0:00:01\n",
      "   ------------------------------------ -- 129.2/136.5 MB 11.9 MB/s eta 0:00:01\n",
      "   ------------------------------------- - 129.8/136.5 MB 11.7 MB/s eta 0:00:01\n",
      "   ------------------------------------- - 130.3/136.5 MB 11.9 MB/s eta 0:00:01\n",
      "   ------------------------------------- - 130.8/136.5 MB 11.9 MB/s eta 0:00:01\n",
      "   ------------------------------------- - 131.4/136.5 MB 11.9 MB/s eta 0:00:01\n",
      "   ------------------------------------- - 131.9/136.5 MB 11.9 MB/s eta 0:00:01\n",
      "   ------------------------------------- - 132.5/136.5 MB 11.7 MB/s eta 0:00:01\n",
      "   ------------------------------------- - 133.0/136.5 MB 11.7 MB/s eta 0:00:01\n",
      "   --------------------------------------  133.6/136.5 MB 11.9 MB/s eta 0:00:01\n",
      "   --------------------------------------  134.2/136.5 MB 11.7 MB/s eta 0:00:01\n",
      "   --------------------------------------  134.7/136.5 MB 11.7 MB/s eta 0:00:01\n",
      "   --------------------------------------  135.2/136.5 MB 11.7 MB/s eta 0:00:01\n",
      "   --------------------------------------  135.7/136.5 MB 11.7 MB/s eta 0:00:01\n",
      "   --------------------------------------  136.4/136.5 MB 11.7 MB/s eta 0:00:01\n",
      "   --------------------------------------  136.5/136.5 MB 11.7 MB/s eta 0:00:01\n",
      "   --------------------------------------  136.5/136.5 MB 11.7 MB/s eta 0:00:01\n",
      "   --------------------------------------  136.5/136.5 MB 11.7 MB/s eta 0:00:01\n",
      "   --------------------------------------  136.5/136.5 MB 11.7 MB/s eta 0:00:01\n",
      "   ---------------------------------------- 136.5/136.5 MB 8.8 MB/s eta 0:00:00\n",
      "Installing collected packages: bitsandbytes\n",
      "Successfully installed bitsandbytes-0.43.3\n",
      "Collecting wandb\n",
      "  Obtaining dependency information for wandb from https://files.pythonhosted.org/packages/63/a8/397fb9a7d6e78136efd6765744f7a992c3c9a119f13448ded2b4885b88e7/wandb-0.18.1-py3-none-win_amd64.whl.metadata\n",
      "  Downloading wandb-0.18.1-py3-none-win_amd64.whl.metadata (9.6 kB)\n",
      "Collecting click!=8.0.0,>=7.1 (from wandb)\n",
      "  Obtaining dependency information for click!=8.0.0,>=7.1 from https://files.pythonhosted.org/packages/00/2e/d53fa4befbf2cfa713304affc7ca780ce4fc1fd8710527771b58311a3229/click-8.1.7-py3-none-any.whl.metadata\n",
      "  Using cached click-8.1.7-py3-none-any.whl.metadata (3.0 kB)\n",
      "Collecting docker-pycreds>=0.4.0 (from wandb)\n",
      "  Obtaining dependency information for docker-pycreds>=0.4.0 from https://files.pythonhosted.org/packages/f5/e8/f6bd1eee09314e7e6dee49cbe2c5e22314ccdb38db16c9fc72d2fa80d054/docker_pycreds-0.4.0-py2.py3-none-any.whl.metadata\n",
      "  Downloading docker_pycreds-0.4.0-py2.py3-none-any.whl.metadata (1.8 kB)\n",
      "Collecting gitpython!=3.1.29,>=1.0.0 (from wandb)\n",
      "  Obtaining dependency information for gitpython!=3.1.29,>=1.0.0 from https://files.pythonhosted.org/packages/e9/bd/cc3a402a6439c15c3d4294333e13042b915bbeab54edc457c723931fed3f/GitPython-3.1.43-py3-none-any.whl.metadata\n",
      "  Downloading GitPython-3.1.43-py3-none-any.whl.metadata (13 kB)\n",
      "Requirement already satisfied: platformdirs in h:\\projects\\face-recognition\\llm_lora\\lib\\site-packages (from wandb) (4.3.6)\n",
      "Collecting protobuf!=4.21.0,!=5.28.0,<6,>=3.19.0 (from wandb)\n",
      "  Obtaining dependency information for protobuf!=4.21.0,!=5.28.0,<6,>=3.19.0 from https://files.pythonhosted.org/packages/7d/46/3fdf7462160135aee6a530f1ec66665b5b4132fa2e1002ab971bc6ec2589/protobuf-5.28.2-cp310-abi3-win_amd64.whl.metadata\n",
      "  Downloading protobuf-5.28.2-cp310-abi3-win_amd64.whl.metadata (592 bytes)\n",
      "Requirement already satisfied: psutil>=5.0.0 in h:\\projects\\face-recognition\\llm_lora\\lib\\site-packages (from wandb) (6.0.0)\n",
      "Requirement already satisfied: pyyaml in h:\\projects\\face-recognition\\llm_lora\\lib\\site-packages (from wandb) (6.0.2)\n",
      "Requirement already satisfied: requests<3,>=2.0.0 in h:\\projects\\face-recognition\\llm_lora\\lib\\site-packages (from wandb) (2.32.3)\n",
      "Collecting sentry-sdk>=1.0.0 (from wandb)\n",
      "  Obtaining dependency information for sentry-sdk>=1.0.0 from https://files.pythonhosted.org/packages/40/de/956ce1d71459fa1af0486ca141fc605ac16f7c8855750668ff663e2b436a/sentry_sdk-2.14.0-py2.py3-none-any.whl.metadata\n",
      "  Downloading sentry_sdk-2.14.0-py2.py3-none-any.whl.metadata (9.7 kB)\n",
      "Collecting setproctitle (from wandb)\n",
      "  Obtaining dependency information for setproctitle from https://files.pythonhosted.org/packages/7e/ba/f6da9ba74e8c2c662e932b27a01025c1bee2846222f6a2e87a69c259772f/setproctitle-1.3.3-cp311-cp311-win_amd64.whl.metadata\n",
      "  Downloading setproctitle-1.3.3-cp311-cp311-win_amd64.whl.metadata (10 kB)\n",
      "Requirement already satisfied: setuptools in h:\\projects\\face-recognition\\llm_lora\\lib\\site-packages (from wandb) (68.2.0)\n",
      "Requirement already satisfied: colorama in h:\\projects\\face-recognition\\llm_lora\\lib\\site-packages (from click!=8.0.0,>=7.1->wandb) (0.4.6)\n",
      "Requirement already satisfied: six>=1.4.0 in h:\\projects\\face-recognition\\llm_lora\\lib\\site-packages (from docker-pycreds>=0.4.0->wandb) (1.16.0)\n",
      "Collecting gitdb<5,>=4.0.1 (from gitpython!=3.1.29,>=1.0.0->wandb)\n",
      "  Obtaining dependency information for gitdb<5,>=4.0.1 from https://files.pythonhosted.org/packages/fd/5b/8f0c4a5bb9fd491c277c21eff7ccae71b47d43c4446c9d0c6cff2fe8c2c4/gitdb-4.0.11-py3-none-any.whl.metadata\n",
      "  Downloading gitdb-4.0.11-py3-none-any.whl.metadata (1.2 kB)\n",
      "Requirement already satisfied: charset-normalizer<4,>=2 in h:\\projects\\face-recognition\\llm_lora\\lib\\site-packages (from requests<3,>=2.0.0->wandb) (3.3.2)\n",
      "Requirement already satisfied: idna<4,>=2.5 in h:\\projects\\face-recognition\\llm_lora\\lib\\site-packages (from requests<3,>=2.0.0->wandb) (3.10)\n",
      "Requirement already satisfied: urllib3<3,>=1.21.1 in h:\\projects\\face-recognition\\llm_lora\\lib\\site-packages (from requests<3,>=2.0.0->wandb) (2.2.3)\n",
      "Requirement already satisfied: certifi>=2017.4.17 in h:\\projects\\face-recognition\\llm_lora\\lib\\site-packages (from requests<3,>=2.0.0->wandb) (2024.8.30)\n",
      "Collecting smmap<6,>=3.0.1 (from gitdb<5,>=4.0.1->gitpython!=3.1.29,>=1.0.0->wandb)\n",
      "  Obtaining dependency information for smmap<6,>=3.0.1 from https://files.pythonhosted.org/packages/a7/a5/10f97f73544edcdef54409f1d839f6049a0d79df68adbc1ceb24d1aaca42/smmap-5.0.1-py3-none-any.whl.metadata\n",
      "  Downloading smmap-5.0.1-py3-none-any.whl.metadata (4.3 kB)\n",
      "Downloading wandb-0.18.1-py3-none-win_amd64.whl (6.8 MB)\n",
      "   ---------------------------------------- 0.0/6.8 MB ? eta -:--:--\n",
      "   - -------------------------------------- 0.2/6.8 MB 3.5 MB/s eta 0:00:02\n",
      "   ---- ----------------------------------- 0.7/6.8 MB 7.4 MB/s eta 0:00:01\n",
      "   ------- -------------------------------- 1.2/6.8 MB 8.6 MB/s eta 0:00:01\n",
      "   ---------- ----------------------------- 1.8/6.8 MB 9.5 MB/s eta 0:00:01\n",
      "   ------------- -------------------------- 2.4/6.8 MB 10.0 MB/s eta 0:00:01\n",
      "   ---------------- ----------------------- 2.8/6.8 MB 10.4 MB/s eta 0:00:01\n",
      "   -------------------- ------------------- 3.5/6.8 MB 10.5 MB/s eta 0:00:01\n",
      "   ----------------------- ---------------- 4.0/6.8 MB 10.6 MB/s eta 0:00:01\n",
      "   -------------------------- ------------- 4.6/6.8 MB 10.8 MB/s eta 0:00:01\n",
      "   ----------------------------- ---------- 5.1/6.8 MB 10.8 MB/s eta 0:00:01\n",
      "   --------------------------------- ------ 5.6/6.8 MB 10.9 MB/s eta 0:00:01\n",
      "   ------------------------------------ --- 6.2/6.8 MB 11.0 MB/s eta 0:00:01\n",
      "   ---------------------------------------  6.7/6.8 MB 11.0 MB/s eta 0:00:01\n",
      "   ---------------------------------------- 6.8/6.8 MB 10.6 MB/s eta 0:00:00\n",
      "Using cached click-8.1.7-py3-none-any.whl (97 kB)\n",
      "Downloading docker_pycreds-0.4.0-py2.py3-none-any.whl (9.0 kB)\n",
      "Downloading GitPython-3.1.43-py3-none-any.whl (207 kB)\n",
      "   ---------------------------------------- 0.0/207.3 kB ? eta -:--:--\n",
      "   --------------------------------------- 207.3/207.3 kB 13.1 MB/s eta 0:00:00\n",
      "Downloading protobuf-5.28.2-cp310-abi3-win_amd64.whl (431 kB)\n",
      "   ---------------------------------------- 0.0/431.5 kB ? eta -:--:--\n",
      "   --------------------------------------- 431.5/431.5 kB 13.6 MB/s eta 0:00:00\n",
      "Downloading sentry_sdk-2.14.0-py2.py3-none-any.whl (311 kB)\n",
      "   ---------------------------------------- 0.0/311.4 kB ? eta -:--:--\n",
      "   ---------------------------------------- 311.4/311.4 kB 9.7 MB/s eta 0:00:00\n",
      "Downloading setproctitle-1.3.3-cp311-cp311-win_amd64.whl (11 kB)\n",
      "Downloading gitdb-4.0.11-py3-none-any.whl (62 kB)\n",
      "   ---------------------------------------- 0.0/62.7 kB ? eta -:--:--\n",
      "   ---------------------------------------- 62.7/62.7 kB 3.3 MB/s eta 0:00:00\n",
      "Downloading smmap-5.0.1-py3-none-any.whl (24 kB)\n",
      "Installing collected packages: smmap, setproctitle, sentry-sdk, protobuf, docker-pycreds, click, gitdb, gitpython, wandb\n",
      "Successfully installed click-8.1.7 docker-pycreds-0.4.0 gitdb-4.0.11 gitpython-3.1.43 protobuf-5.28.2 sentry-sdk-2.14.0 setproctitle-1.3.3 smmap-5.0.1 wandb-0.18.1\n"
     ]
    },
    {
     "name": "stderr",
     "output_type": "stream",
     "text": [
      "\n",
      "[notice] A new release of pip is available: 23.2.1 -> 24.2\n",
      "[notice] To update, run: python.exe -m pip install --upgrade pip\n"
     ]
    }
   ],
   "source": [
    "!pip install -U transformers \n",
    "!pip install -U datasets \n",
    "!pip install -U accelerate \n",
    "!pip install -U peft \n",
    "!pip install -U trl \n",
    "!pip install -U bitsandbytes \n",
    "!pip install -U wandb "
   ],
   "metadata": {
    "collapsed": false,
    "ExecuteTime": {
     "end_time": "2024-09-23T09:36:57.735422Z",
     "start_time": "2024-09-23T09:34:09.538644Z"
    }
   },
   "id": "7ec273b1d3add3a6",
   "execution_count": 2
  },
  {
   "cell_type": "code",
   "outputs": [],
   "source": [],
   "metadata": {
    "collapsed": false,
    "ExecuteTime": {
     "end_time": "2024-09-23T09:38:28.136136Z",
     "start_time": "2024-09-23T09:38:28.132940Z"
    }
   },
   "id": "649f115e8e6fa4f0",
   "execution_count": 3
  },
  {
   "cell_type": "code",
   "outputs": [],
   "source": [
    "import os, torch, wandb\n",
    "\n",
    "from transformers import (\n",
    "    AutoModelForCausalLM,\n",
    "    AutoTokenizer,\n",
    "    BitsAndBytesConfig,\n",
    "    HfArgumentParser,\n",
    "    TrainingArguments,\n",
    "    pipeline,\n",
    "    logging,\n",
    ")\n",
    "from peft import (\n",
    "    LoraConfig,\n",
    "    PeftModel,\n",
    "    prepare_model_for_kbit_training,\n",
    "    get_peft_model,\n",
    ")\n",
    "\n",
    "from datasets import load_dataset\n",
    "from trl import SFTTrainer, setup_chat_format\n",
    "from dataclasses import dataclass"
   ],
   "metadata": {
    "collapsed": false,
    "ExecuteTime": {
     "end_time": "2024-09-30T19:47:21.057789Z",
     "start_time": "2024-09-30T19:47:00.168054Z"
    }
   },
   "id": "70056fe4b95e9254",
   "execution_count": 1
  },
  {
   "cell_type": "code",
   "outputs": [
    {
     "name": "stdout",
     "output_type": "stream",
     "text": [
      "The token has not been saved to the git credentials helper. Pass `add_to_git_credential=True` in this function directly or `--add-to-git-credential` if using via `huggingface-cli` if you want to set the git credential as well.\n",
      "Token is valid (permission: write).\n",
      "Your token has been saved to C:\\Users\\user\\.cache\\huggingface\\token\n",
      "Login successful\n"
     ]
    },
    {
     "name": "stderr",
     "output_type": "stream",
     "text": [
      "wandb: WARNING Calling wandb.login() after wandb.init() has no effect.\n"
     ]
    },
    {
     "data": {
      "text/plain": "<IPython.core.display.HTML object>",
      "text/html": "Finishing last run (ID:1uymckm0) before initializing another..."
     },
     "metadata": {},
     "output_type": "display_data"
    },
    {
     "data": {
      "text/plain": "VBox(children=(Label(value='0.014 MB of 0.014 MB uploaded\\r'), FloatProgress(value=1.0, max=1.0)))",
      "application/vnd.jupyter.widget-view+json": {
       "version_major": 2,
       "version_minor": 0,
       "model_id": "4407e00ada194b408ab844ed0f3ebf8a"
      }
     },
     "metadata": {},
     "output_type": "display_data"
    },
    {
     "data": {
      "text/plain": "<IPython.core.display.HTML object>",
      "text/html": " View run <strong style=\"color:#cdcd00\">fresh-frog-1</strong> at: <a href='https://wandb.ai/ser13volk-rtu-mirea/Fine-tune%20Llama%203.1%208B%20on%20Dataset%20for%20game/runs/1uymckm0' target=\"_blank\">https://wandb.ai/ser13volk-rtu-mirea/Fine-tune%20Llama%203.1%208B%20on%20Dataset%20for%20game/runs/1uymckm0</a><br/> View project at: <a href='https://wandb.ai/ser13volk-rtu-mirea/Fine-tune%20Llama%203.1%208B%20on%20Dataset%20for%20game' target=\"_blank\">https://wandb.ai/ser13volk-rtu-mirea/Fine-tune%20Llama%203.1%208B%20on%20Dataset%20for%20game</a><br/>Synced 4 W&B file(s), 0 media file(s), 3 artifact file(s) and 0 other file(s)"
     },
     "metadata": {},
     "output_type": "display_data"
    },
    {
     "data": {
      "text/plain": "<IPython.core.display.HTML object>",
      "text/html": "Find logs at: <code>.\\wandb\\run-20240930_224723-1uymckm0\\logs</code>"
     },
     "metadata": {},
     "output_type": "display_data"
    },
    {
     "data": {
      "text/plain": "<IPython.core.display.HTML object>",
      "text/html": "Successfully finished last run (ID:1uymckm0). Initializing new run:<br/>"
     },
     "metadata": {},
     "output_type": "display_data"
    },
    {
     "data": {
      "text/plain": "<IPython.core.display.HTML object>",
      "text/html": "Tracking run with wandb version 0.18.1"
     },
     "metadata": {},
     "output_type": "display_data"
    },
    {
     "data": {
      "text/plain": "<IPython.core.display.HTML object>",
      "text/html": "Run data is saved locally in <code>T:\\pythonProject\\LLM_LoRa\\wandb\\run-20240930_225222-2yayuzij</code>"
     },
     "metadata": {},
     "output_type": "display_data"
    },
    {
     "data": {
      "text/plain": "<IPython.core.display.HTML object>",
      "text/html": "Syncing run <strong><a href='https://wandb.ai/ser13volk-rtu-mirea/Fine-tune%20Llama%203.1%208B%20on%20Dataset%20for%20game/runs/2yayuzij' target=\"_blank\">spring-music-2</a></strong> to <a href='https://wandb.ai/ser13volk-rtu-mirea/Fine-tune%20Llama%203.1%208B%20on%20Dataset%20for%20game' target=\"_blank\">Weights & Biases</a> (<a href='https://wandb.me/run' target=\"_blank\">docs</a>)<br/>"
     },
     "metadata": {},
     "output_type": "display_data"
    },
    {
     "data": {
      "text/plain": "<IPython.core.display.HTML object>",
      "text/html": " View project at <a href='https://wandb.ai/ser13volk-rtu-mirea/Fine-tune%20Llama%203.1%208B%20on%20Dataset%20for%20game' target=\"_blank\">https://wandb.ai/ser13volk-rtu-mirea/Fine-tune%20Llama%203.1%208B%20on%20Dataset%20for%20game</a>"
     },
     "metadata": {},
     "output_type": "display_data"
    },
    {
     "data": {
      "text/plain": "<IPython.core.display.HTML object>",
      "text/html": " View run at <a href='https://wandb.ai/ser13volk-rtu-mirea/Fine-tune%20Llama%203.1%208B%20on%20Dataset%20for%20game/runs/2yayuzij' target=\"_blank\">https://wandb.ai/ser13volk-rtu-mirea/Fine-tune%20Llama%203.1%208B%20on%20Dataset%20for%20game/runs/2yayuzij</a>"
     },
     "metadata": {},
     "output_type": "display_data"
    }
   ],
   "source": [
    "from huggingface_hub import login\n",
    "# from kaggle_secrets import UserSecretsClient\n",
    "from private_api import WANB_API, HUGGING_FACE_API\n",
    "# user_secrets = UserSecretsClient()\n",
    "\n",
    "# hf_token = user_secrets.get_secret(\"huggingface_token\")\n",
    "hf_token = HUGGING_FACE_API\n",
    "\n",
    "login(token = hf_token)\n",
    "\n",
    "# wb_token = user_secrets.get_secret(\"wandb_api_key\")\n",
    "wb_token = WANB_API\n",
    "\n",
    "wandb.login(key=wb_token)\n",
    "run = wandb.init(\n",
    "    project='Fine-tune Llama 3.1 8B on Dataset for game', \n",
    "    job_type=\"training\", \n",
    "    anonymous=\"allow\"\n",
    ")"
   ],
   "metadata": {
    "collapsed": false,
    "ExecuteTime": {
     "end_time": "2024-09-30T19:52:28.139805Z",
     "start_time": "2024-09-30T19:52:22.267372Z"
    }
   },
   "id": "7c41cc390454b230",
   "execution_count": 11
  },
  {
   "cell_type": "markdown",
   "source": [
    "# Loading model and tokenizer"
   ],
   "metadata": {
    "collapsed": false
   },
   "id": "8a9da87ebdc3bf8e"
  },
  {
   "cell_type": "code",
   "outputs": [
    {
     "name": "stderr",
     "output_type": "stream",
     "text": [
      "\n",
      "Fetching 3 files:   0%|          | 0/3 [00:00<?, ?it/s]\n",
      "Fetching 3 files:   0%|          | 0/3 [00:00<?, ?it/s]"
     ]
    }
   ],
   "source": [
    "!huggingface-cli download meta-llama/Meta-Llama-3.1-8B-Instruct --include \"original/*\" --local-dir Meta-Llama-3.1-8B-Instruct"
   ],
   "metadata": {
    "collapsed": false,
    "ExecuteTime": {
     "end_time": "2024-09-30T20:12:52.321860Z",
     "start_time": "2024-09-30T20:12:49.775333Z"
    }
   },
   "id": "7f73c19400f3fe66",
   "execution_count": 16
  },
  {
   "cell_type": "code",
   "outputs": [],
   "source": [
    "@dataclass\n",
    "class Config:\n",
    "    # model_name = \"meta-llama/Meta-Llama-3.1-8B-Instruct\"\n",
    "    model_name = \"aifeifei798/DarkIdol-Llama-3.1-8B-Instruct-1.2-Uncensored\"\n",
    "    dataset_name = \"data/daedalus.json\"\n",
    "    # dataset_name = \"ruslanmv/ai-medical-chatbot\"\n",
    "    new_model = \"llama-3.1-8b-chat-daedalus\"\n",
    "    torch_dtype = torch.float16\n",
    "    attn_implementation = \"eager\"\n",
    "\n",
    "cfg = Config() "
   ],
   "metadata": {
    "collapsed": false,
    "ExecuteTime": {
     "end_time": "2024-09-30T20:31:04.183791Z",
     "start_time": "2024-09-30T20:31:04.178792Z"
    }
   },
   "id": "34091b6893fa7eda",
   "execution_count": 17
  },
  {
   "cell_type": "code",
   "outputs": [
    {
     "data": {
      "text/plain": "config.json:   0%|          | 0.00/923 [00:00<?, ?B/s]",
      "application/vnd.jupyter.widget-view+json": {
       "version_major": 2,
       "version_minor": 0,
       "model_id": "d514b4f714564ad2993be7a9c064351f"
      }
     },
     "metadata": {},
     "output_type": "display_data"
    },
    {
     "name": "stderr",
     "output_type": "stream",
     "text": [
      "H:\\projects\\Face-recognition\\LLM_LoRa\\Lib\\site-packages\\huggingface_hub\\file_download.py:147: UserWarning: `huggingface_hub` cache-system uses symlinks by default to efficiently store duplicated files but your machine does not support them in C:\\Users\\user\\.cache\\huggingface\\hub\\models--aifeifei798--DarkIdol-Llama-3.1-8B-Instruct-1.2-Uncensored. Caching files will still work but in a degraded version that might require more space on your disk. This warning can be disabled by setting the `HF_HUB_DISABLE_SYMLINKS_WARNING` environment variable. For more details, see https://huggingface.co/docs/huggingface_hub/how-to-cache#limitations.\n",
      "To support symlinks on Windows, you either need to activate Developer Mode or to run Python as an administrator. In order to activate developer mode, see this article: https://docs.microsoft.com/en-us/windows/apps/get-started/enable-your-device-for-development\n",
      "  warnings.warn(message)\n"
     ]
    },
    {
     "data": {
      "text/plain": "model.safetensors.index.json:   0%|          | 0.00/23.9k [00:00<?, ?B/s]",
      "application/vnd.jupyter.widget-view+json": {
       "version_major": 2,
       "version_minor": 0,
       "model_id": "05f3b3e51bb649edb873ca35ece89875"
      }
     },
     "metadata": {},
     "output_type": "display_data"
    },
    {
     "data": {
      "text/plain": "Downloading shards:   0%|          | 0/9 [00:00<?, ?it/s]",
      "application/vnd.jupyter.widget-view+json": {
       "version_major": 2,
       "version_minor": 0,
       "model_id": "ec6de125e1fb48c89e9beed9f0df1dac"
      }
     },
     "metadata": {},
     "output_type": "display_data"
    },
    {
     "data": {
      "text/plain": "model-00001-of-00009.safetensors:   0%|          | 0.00/1.97G [00:00<?, ?B/s]",
      "application/vnd.jupyter.widget-view+json": {
       "version_major": 2,
       "version_minor": 0,
       "model_id": "798f00ede21e4e67972135471eeae6e7"
      }
     },
     "metadata": {},
     "output_type": "display_data"
    },
    {
     "data": {
      "text/plain": "model-00002-of-00009.safetensors:   0%|          | 0.00/1.90G [00:00<?, ?B/s]",
      "application/vnd.jupyter.widget-view+json": {
       "version_major": 2,
       "version_minor": 0,
       "model_id": "e167439ddd4a4a718d20ffcf5117a3cf"
      }
     },
     "metadata": {},
     "output_type": "display_data"
    },
    {
     "data": {
      "text/plain": "model-00003-of-00009.safetensors:   0%|          | 0.00/1.98G [00:00<?, ?B/s]",
      "application/vnd.jupyter.widget-view+json": {
       "version_major": 2,
       "version_minor": 0,
       "model_id": "2e21388695324724a96fe61eca84ca4a"
      }
     },
     "metadata": {},
     "output_type": "display_data"
    }
   ],
   "source": [
    "bnb_config = BitsAndBytesConfig(\n",
    "    load_in_4bit=True,\n",
    "    bnb_4bit_quant_type=\"nf4\",\n",
    "    bnb_4bit_compute_dtype=cfg.torch_dtype,\n",
    "    bnb_4bit_use_double_quant=True,\n",
    ")\n",
    "\n",
    "# Load model\n",
    "model = AutoModelForCausalLM.from_pretrained(\n",
    "    cfg.model_name,\n",
    "    quantization_config=bnb_config,\n",
    "    device_map=\"auto\",\n",
    "    attn_implementation=cfg.attn_implementation\n",
    ")"
   ],
   "metadata": {
    "collapsed": false,
    "is_executing": true,
    "ExecuteTime": {
     "start_time": "2024-09-30T20:31:05.358261Z"
    }
   },
   "id": "a62b8d9d7776674e",
   "execution_count": null
  },
  {
   "cell_type": "code",
   "outputs": [],
   "source": [
    "tokenizer = AutoTokenizer.from_pretrained(cfg.model_name)\n",
    "model, tokenizer = setup_chat_format(model, tokenizer)\n",
    "tokenizer.padding_side = 'right'\n",
    "tokenizer.padding_token = '<|pad|>'"
   ],
   "metadata": {
    "collapsed": false,
    "is_executing": true
   },
   "id": "60c054c24a98a3a0"
  },
  {
   "cell_type": "markdown",
   "source": [
    "# LoRA adapter"
   ],
   "metadata": {
    "collapsed": false
   },
   "id": "8690c10088af39fb"
  },
  {
   "cell_type": "code",
   "outputs": [],
   "source": [
    "peft_config = LoraConfig(\n",
    "    r=16,\n",
    "    lora_alpha=32,\n",
    "    lora_dropout=0.05,\n",
    "    bias=\"none\",\n",
    "    task_type=\"CAUSAL_LM\",\n",
    "    target_modules=['up_proj', 'down_proj', 'gate_proj', 'k_proj', 'q_proj', 'v_proj', 'o_proj']\n",
    ")\n",
    "model = get_peft_model(model, peft_config)"
   ],
   "metadata": {
    "collapsed": false,
    "is_executing": true
   },
   "id": "ce049e546f1481b9"
  },
  {
   "cell_type": "markdown",
   "source": [
    "# Data"
   ],
   "metadata": {
    "collapsed": false
   },
   "id": "8865deaf498da5da"
  },
  {
   "cell_type": "code",
   "outputs": [
    {
     "data": {
      "text/plain": "README.md:   0%|          | 0.00/863 [00:00<?, ?B/s]",
      "application/vnd.jupyter.widget-view+json": {
       "version_major": 2,
       "version_minor": 0,
       "model_id": "4b49ab87c3ef49069fff28479f69f201"
      }
     },
     "metadata": {},
     "output_type": "display_data"
    },
    {
     "name": "stderr",
     "output_type": "stream",
     "text": [
      "H:\\projects\\Face-recognition\\LLM_LoRa\\Lib\\site-packages\\huggingface_hub\\file_download.py:147: UserWarning: `huggingface_hub` cache-system uses symlinks by default to efficiently store duplicated files but your machine does not support them in C:\\Users\\user\\.cache\\huggingface\\hub\\datasets--ruslanmv--ai-medical-chatbot. Caching files will still work but in a degraded version that might require more space on your disk. This warning can be disabled by setting the `HF_HUB_DISABLE_SYMLINKS_WARNING` environment variable. For more details, see https://huggingface.co/docs/huggingface_hub/how-to-cache#limitations.\n",
      "To support symlinks on Windows, you either need to activate Developer Mode or to run Python as an administrator. In order to activate developer mode, see this article: https://docs.microsoft.com/en-us/windows/apps/get-started/enable-your-device-for-development\n",
      "  warnings.warn(message)\n"
     ]
    },
    {
     "data": {
      "text/plain": "dialogues.parquet:   0%|          | 0.00/142M [00:00<?, ?B/s]",
      "application/vnd.jupyter.widget-view+json": {
       "version_major": 2,
       "version_minor": 0,
       "model_id": "8e5a6fe0f0f24604a679210c91b7e1d6"
      }
     },
     "metadata": {},
     "output_type": "display_data"
    },
    {
     "data": {
      "text/plain": "Generating train split:   0%|          | 0/256916 [00:00<?, ? examples/s]",
      "application/vnd.jupyter.widget-view+json": {
       "version_major": 2,
       "version_minor": 0,
       "model_id": "678453015d1e404c9fc8fb5bdd901923"
      }
     },
     "metadata": {},
     "output_type": "display_data"
    }
   ],
   "source": [
    "dataset = load_dataset(cfg.dataset_name, split=\"all\")"
   ],
   "metadata": {
    "collapsed": false,
    "ExecuteTime": {
     "end_time": "2024-09-30T19:48:10.059970Z",
     "start_time": "2024-09-30T19:47:52.649303Z"
    }
   },
   "id": "cb1fc1af7863bdb4",
   "execution_count": 4
  },
  {
   "cell_type": "code",
   "outputs": [
    {
     "name": "stdout",
     "output_type": "stream",
     "text": [
      "Dataset({\n",
      "    features: ['Description', 'Patient', 'Doctor'],\n",
      "    num_rows: 256916\n",
      "})\n"
     ]
    }
   ],
   "source": [
    "print(dataset)"
   ],
   "metadata": {
    "collapsed": false,
    "ExecuteTime": {
     "end_time": "2024-09-30T19:48:12.770706Z",
     "start_time": "2024-09-30T19:48:12.764333Z"
    }
   },
   "id": "c698a560fc0309dc",
   "execution_count": 5
  },
  {
   "cell_type": "code",
   "outputs": [
    {
     "name": "stdout",
     "output_type": "stream",
     "text": [
      "Q. What does abutment of the nerve root mean?\n"
     ]
    }
   ],
   "source": [
    "print(dataset[\"Description\"][0])"
   ],
   "metadata": {
    "collapsed": false,
    "ExecuteTime": {
     "end_time": "2024-09-30T19:49:11.676894Z",
     "start_time": "2024-09-30T19:49:11.260768Z"
    }
   },
   "id": "99765e2321379f8",
   "execution_count": 8
  },
  {
   "cell_type": "code",
   "outputs": [],
   "source": [
    "def format_chat_template(row):\n",
    "    row_json = [{\"role\": \"user\", \"content\": row[\"Patient\"]},\n",
    "               {\"role\": \"assistant\", \"content\": row[\"Doctor\"]}]\n",
    "    row[\"text\"] = tokenizer.apply_chat_template(row_json, tokenize=False)\n",
    "    return row\n",
    "\n",
    "\n",
    "dataset = dataset.map(\n",
    "\tformat_chat_template,\n",
    "\tnum_proc=4,\n",
    ")\n"
   ],
   "metadata": {
    "collapsed": false
   },
   "id": "9a2169eedd5a3a5"
  },
  {
   "cell_type": "code",
   "outputs": [],
   "source": [
    "TRAIN_STEPS = 100\n",
    "training_arguments = TrainingArguments(\n",
    "    output_dir=cfg.new_model,\n",
    "    per_device_train_batch_size=1,\n",
    "    per_device_eval_batch_size=1,\n",
    "    gradient_accumulation_steps=2,\n",
    "    max_steps=TRAIN_STEPS,\n",
    "    optim=\"paged_adamw_32bit\",\n",
    "    num_train_epochs=1,\n",
    "    eval_strategy=\"steps\",\n",
    "    eval_steps=0.2,\n",
    "    logging_steps=100,\n",
    "    warmup_steps=10,\n",
    "    logging_strategy=\"steps\",\n",
    "    learning_rate=2e-4,\n",
    "    fp16=False,\n",
    "    bf16=False,\n",
    "    group_by_length=True,\n",
    "    report_to=\"wandb\"\n",
    ")"
   ],
   "metadata": {
    "collapsed": false
   },
   "id": "f4f30aeff4013e3"
  },
  {
   "cell_type": "code",
   "outputs": [],
   "source": [
    "trainer = SFTTrainer(\n",
    "    model=model,\n",
    "    train_dataset=dataset[\"train\"],\n",
    "    eval_dataset=dataset[\"test\"],\n",
    "    peft_config=peft_config, # сам адаптер, который создали ранее\n",
    "    max_seq_length=512,\n",
    "    dataset_text_field=\"text\",\n",
    "    tokenizer=tokenizer, # был импортирован \n",
    "    args=training_arguments,\n",
    "    packing= False,\n",
    ")"
   ],
   "metadata": {
    "collapsed": false
   },
   "id": "6d90c1aa7d79ce15"
  },
  {
   "cell_type": "code",
   "outputs": [],
   "source": [
    "trainer.train() "
   ],
   "metadata": {
    "collapsed": false
   },
   "id": "f3a6ffb98964ba7f"
  },
  {
   "cell_type": "code",
   "outputs": [],
   "source": [
    "path_to_save = \"Llama-finetuned\"\n",
    "trainer.save_model(path_to_save)\n",
    "model.save_pretrained(path_to_save)\n",
    "tokenizer.save_pretrained(path_to_save)"
   ],
   "metadata": {
    "collapsed": false
   },
   "id": "608bd4d66d0aa31c"
  },
  {
   "cell_type": "code",
   "outputs": [],
   "source": [
    "del model, tokenizer, trainer"
   ],
   "metadata": {
    "collapsed": false
   },
   "id": "d89163c487a2cd81"
  },
  {
   "cell_type": "code",
   "outputs": [],
   "source": [
    "def generate_answer(model, prompt):\n",
    "    chat = [\n",
    "        { \"role\": \"user\", \"content\": prompt },\n",
    "    ]\n",
    "    prompt = tokenizer.apply_chat_template(chat, tokenize=False, add_generation_prompt=True)\n",
    "    inputs = tokenizer.encode(prompt, add_special_tokens=False, return_tensors=\"pt\")\n",
    "    outputs = model.generate(input_ids=inputs.to(model.device), max_new_tokens=150)\n",
    "\n",
    "    return(tokenizer.decode(outputs[0]))"
   ],
   "metadata": {
    "collapsed": false
   },
   "id": "f4bb996ef66d3d76"
  },
  {
   "cell_type": "code",
   "outputs": [],
   "source": [
    "q1 = \"Hello. who are you?\""
   ],
   "metadata": {
    "collapsed": false
   },
   "id": "9bcf2e0bb5699f1a"
  },
  {
   "cell_type": "code",
   "outputs": [],
   "source": [
    "generate_answer(model, q1)"
   ],
   "metadata": {
    "collapsed": false
   },
   "id": "1aeaf7ba8a5f7e9e"
  },
  {
   "cell_type": "code",
   "outputs": [],
   "source": [
    "import numba\n",
    "numba.cuda.close()"
   ],
   "metadata": {
    "collapsed": false
   },
   "id": "253c0d1da341c5a4"
  }
 ],
 "metadata": {
  "kernelspec": {
   "display_name": "Python 3",
   "language": "python",
   "name": "python3"
  },
  "language_info": {
   "codemirror_mode": {
    "name": "ipython",
    "version": 2
   },
   "file_extension": ".py",
   "mimetype": "text/x-python",
   "name": "python",
   "nbconvert_exporter": "python",
   "pygments_lexer": "ipython2",
   "version": "2.7.6"
  }
 },
 "nbformat": 4,
 "nbformat_minor": 5
}
